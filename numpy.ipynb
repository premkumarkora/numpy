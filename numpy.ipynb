{
  "nbformat": 4,
  "nbformat_minor": 0,
  "metadata": {
    "colab": {
      "provenance": [],
      "collapsed_sections": [
        "a5Pyw57gSsyh"
      ],
      "authorship_tag": "ABX9TyP6i+gIVcKAbn1Aps2heP/x"
    },
    "kernelspec": {
      "name": "python3",
      "display_name": "Python 3"
    },
    "language_info": {
      "name": "python"
    }
  },
  "cells": [
    {
      "cell_type": "markdown",
      "source": [
        "comparing performance with Lists, etc"
      ],
      "metadata": {
        "id": "gSPy2C2b2tgd"
      }
    },
    {
      "cell_type": "code",
      "source": [
        "import numpy as np\n",
        "from google.colab import drive\n",
        "drive.mount('/content/drive')\n",
        "# /content/drive/My Drive/Colab Notebooks/Numpy/planets_small.txt"
      ],
      "metadata": {
        "id": "1BO-klZEfsCZ",
        "colab": {
          "base_uri": "https://localhost:8080/"
        },
        "outputId": "a84e7afc-adb6-4688-ef6c-a90e4156c304"
      },
      "execution_count": null,
      "outputs": [
        {
          "output_type": "stream",
          "name": "stdout",
          "text": [
            "Drive already mounted at /content/drive; to attempt to forcibly remount, call drive.mount(\"/content/drive\", force_remount=True).\n"
          ]
        }
      ]
    },
    {
      "cell_type": "code",
      "execution_count": null,
      "metadata": {
        "colab": {
          "base_uri": "https://localhost:8080/"
        },
        "id": "ZFrbm-1C2g6l",
        "outputId": "398ed2cb-90ad-43a9-bdc1-76a25e719093"
      },
      "outputs": [
        {
          "output_type": "stream",
          "name": "stdout",
          "text": [
            "CPU times: user 26.1 s, sys: 2.19 s, total: 28.3 s\n",
            "Wall time: 29.8 s\n"
          ]
        }
      ],
      "source": [
        "%%time\n",
        "N=100000000\n",
        "list_=list(range(N))\n",
        "for i in range(N):\n",
        "  list_[i] = list_[i]+list_[i]"
      ]
    },
    {
      "cell_type": "code",
      "source": [
        "%%time\n",
        "N=100000000\n",
        "list_=list(range(N))\n",
        "list_= [item*item for item in list_]"
      ],
      "metadata": {
        "colab": {
          "base_uri": "https://localhost:8080/"
        },
        "id": "Fcg7Azs03vZd",
        "outputId": "c8a0eb1e-c664-47fc-86ea-0750a9c12034"
      },
      "execution_count": null,
      "outputs": [
        {
          "output_type": "stream",
          "name": "stdout",
          "text": [
            "CPU times: user 9.98 s, sys: 5.42 s, total: 15.4 s\n",
            "Wall time: 15.4 s\n"
          ]
        }
      ]
    },
    {
      "cell_type": "code",
      "source": [
        "%%time\n",
        "N=100000000\n",
        "list_=list(range(N))\n",
        "list_= map(lambda x: x*x, list_)"
      ],
      "metadata": {
        "colab": {
          "base_uri": "https://localhost:8080/"
        },
        "id": "v62W3afO4ijN",
        "outputId": "3bcbb5b4-b491-401e-bed6-ebdd3506bdd0"
      },
      "execution_count": null,
      "outputs": [
        {
          "output_type": "stream",
          "name": "stdout",
          "text": [
            "CPU times: user 1.36 s, sys: 1.43 s, total: 2.79 s\n",
            "Wall time: 2.78 s\n"
          ]
        }
      ]
    },
    {
      "cell_type": "code",
      "source": [
        "%%time\n",
        "N=100000000\n",
        "list_=list(range(N))\n",
        "list_sum=0\n",
        "for item in list_:\n",
        "  list_sum += item"
      ],
      "metadata": {
        "colab": {
          "base_uri": "https://localhost:8080/"
        },
        "id": "dIGTK1l75V5q",
        "outputId": "bf0c3361-06a9-4170-a478-20718bfaa6ec"
      },
      "execution_count": null,
      "outputs": [
        {
          "output_type": "stream",
          "name": "stdout",
          "text": [
            "CPU times: user 14.9 s, sys: 4.86 s, total: 19.7 s\n",
            "Wall time: 19.8 s\n"
          ]
        }
      ]
    },
    {
      "cell_type": "code",
      "source": [
        "%%time\n",
        "N=100000000\n",
        "list_=list(range(N))\n",
        "list_sum = sum(list_)"
      ],
      "metadata": {
        "colab": {
          "base_uri": "https://localhost:8080/"
        },
        "id": "ljRUSIyt6Fqt",
        "outputId": "028ef772-8fba-437a-93e5-e25119f03f1f"
      },
      "execution_count": null,
      "outputs": [
        {
          "output_type": "stream",
          "name": "stdout",
          "text": [
            "CPU times: user 3.27 s, sys: 1.73 s, total: 5.01 s\n",
            "Wall time: 5 s\n"
          ]
        }
      ]
    },
    {
      "cell_type": "markdown",
      "source": [
        "numpy"
      ],
      "metadata": {
        "id": "NBTmaSwB6Tf_"
      }
    },
    {
      "cell_type": "code",
      "source": [
        "%%time\n",
        "import numpy as np\n",
        "N=100000000\n",
        "arr=np.arange(N)\n",
        "arr=arr * arr"
      ],
      "metadata": {
        "colab": {
          "base_uri": "https://localhost:8080/"
        },
        "id": "GPiAumw46U6Y",
        "outputId": "cae1979f-5382-4ce1-9f8e-de6a82050fae"
      },
      "execution_count": null,
      "outputs": [
        {
          "output_type": "stream",
          "name": "stdout",
          "text": [
            "CPU times: user 407 ms, sys: 25.3 ms, total: 432 ms\n",
            "Wall time: 417 ms\n"
          ]
        }
      ]
    },
    {
      "cell_type": "code",
      "source": [
        "%%time\n",
        "import numpy as np\n",
        "N=100000000\n",
        "arr=np.arange(N)\n",
        "arr_sum = np.sum(arr)"
      ],
      "metadata": {
        "colab": {
          "base_uri": "https://localhost:8080/"
        },
        "id": "n9Dv_Bwl66NQ",
        "outputId": "2d0f1caa-b639-4bb1-8c47-aac65e3472ca"
      },
      "execution_count": null,
      "outputs": [
        {
          "output_type": "stream",
          "name": "stdout",
          "text": [
            "CPU times: user 268 ms, sys: 0 ns, total: 268 ms\n",
            "Wall time: 267 ms\n"
          ]
        }
      ]
    },
    {
      "cell_type": "markdown",
      "source": [
        "# High Dimensional Array & Creating NumPy Array"
      ],
      "metadata": {
        "id": "Tt4FoZLPse77"
      }
    },
    {
      "cell_type": "code",
      "source": [
        "import numpy as np\n",
        "arr=np.arange(5)\n",
        "print(arr, type(arr))\n"
      ],
      "metadata": {
        "colab": {
          "base_uri": "https://localhost:8080/"
        },
        "id": "GUtYWajGMPF_",
        "outputId": "803aa746-152b-4027-8749-325752210bba"
      },
      "execution_count": null,
      "outputs": [
        {
          "output_type": "stream",
          "name": "stdout",
          "text": [
            "[0 1 2 3 4] <class 'numpy.ndarray'>\n"
          ]
        }
      ]
    },
    {
      "cell_type": "code",
      "source": [
        "arr = np.array([0,2,4,6,8])\n",
        "print(arr, \"Type of :: \", type(arr), \"Data Type :: \", arr.dtype)\n",
        "print(\"Dimension of Array  : \", arr.ndim)\n",
        "print(\"Shape of Array  : \", arr.shape)\n",
        "print(\"Size of Array  : \", arr.size)\n",
        "print(\"ItemSize of Array  in bytes : \", arr.itemsize)"
      ],
      "metadata": {
        "colab": {
          "base_uri": "https://localhost:8080/"
        },
        "id": "hsUi0oD6MqnO",
        "outputId": "fc8c73b4-031f-43fb-e665-cf2dd780d3b6"
      },
      "execution_count": null,
      "outputs": [
        {
          "output_type": "stream",
          "name": "stdout",
          "text": [
            "[0 2 4 6 8] Type of ::  <class 'numpy.ndarray'> Data Type ::  int64\n",
            "Dimension of Array  :  1\n",
            "Shape of Array  :  (5,)\n",
            "Size of Array  :  5\n",
            "ItemSize of Array  :  8\n"
          ]
        }
      ]
    },
    {
      "cell_type": "code",
      "source": [
        "import numpy as np\n",
        "arr2d = np.array([\n",
        "      [1,2,3],\n",
        "      [4,5,6]\n",
        "    \n",
        "    ])\n",
        "print(arr2d)\n",
        "print(\"Type of :: \", type(arr2d))\n",
        "print(\"Data Type :: \", arr2d.dtype)\n",
        "print(\"Dimension of Array  : \", arr2d.ndim)\n",
        "print(\"Shape of Array  : \", arr2d.shape)\n",
        "print(\"Size of Array  : \", arr2d.size)\n",
        "print(\"ItemSize of Array  in bytes : \", arr2d.itemsize)"
      ],
      "metadata": {
        "colab": {
          "base_uri": "https://localhost:8080/"
        },
        "id": "2HOh7yUzOgy9",
        "outputId": "ff7d289e-3212-43f6-e72c-eb7f1fd506d7"
      },
      "execution_count": null,
      "outputs": [
        {
          "output_type": "stream",
          "name": "stdout",
          "text": [
            "[[1 2 3]\n",
            " [4 5 6]]\n",
            "Type of ::  <class 'numpy.ndarray'>\n",
            "Data Type ::  int64\n",
            "Dimension of Array  :  2\n",
            "Shape of Array  :  (2, 3)\n",
            "Size of Array  :  6\n",
            "ItemSize of Array  in bytes :  8\n"
          ]
        }
      ]
    },
    {
      "cell_type": "code",
      "source": [
        "import numpy as np\n",
        "arr3d = np.array([\n",
        "      [\n",
        "        [1,2,3],\n",
        "        [4,5,6],\n",
        "        [7,8,9]\n",
        "      ],\n",
        "\n",
        "      [\n",
        "        [10,11,12],\n",
        "        [13,14,15],\n",
        "        [16,17,18]   \n",
        "      ]\n",
        "    ])\n",
        "print(arr3d)\n",
        "print(\"Type of :: \", type(arr3d))\n",
        "print(\"Data Type :: \", arr3d.dtype)\n",
        "print(\"Dimension of Array  : \", arr3d.ndim)\n",
        "print(\"Shape of Array  : \", arr3d.shape)\n",
        "print(\"Size of Array  : \", arr3d.size)\n",
        "print(\"ItemSize of Array  in bytes : \", arr3d.itemsize)"
      ],
      "metadata": {
        "colab": {
          "base_uri": "https://localhost:8080/"
        },
        "id": "T9GSxgSvQWiF",
        "outputId": "8a6c814a-0f7b-49cb-db91-dd5a1481232b"
      },
      "execution_count": null,
      "outputs": [
        {
          "output_type": "stream",
          "name": "stdout",
          "text": [
            "[[[ 1  2  3]\n",
            "  [ 4  5  6]\n",
            "  [ 7  8  9]]\n",
            "\n",
            " [[10 11 12]\n",
            "  [13 14 15]\n",
            "  [16 17 18]]]\n",
            "Type of ::  <class 'numpy.ndarray'>\n",
            "Data Type ::  int64\n",
            "Dimension of Array  :  3\n",
            "Shape of Array  :  (2, 3, 3)\n",
            "Size of Array  :  18\n",
            "ItemSize of Array  in bytes :  8\n"
          ]
        }
      ]
    },
    {
      "cell_type": "markdown",
      "source": [
        "# create diffren dimeson arrays with only 1's"
      ],
      "metadata": {
        "id": "a5Pyw57gSsyh"
      }
    },
    {
      "cell_type": "code",
      "source": [
        "arr1s = np.ones((3,4))\n",
        "print(arr1s)"
      ],
      "metadata": {
        "colab": {
          "base_uri": "https://localhost:8080/"
        },
        "id": "N4Lb82IYRc_C",
        "outputId": "c57a08f3-d7ed-4605-d646-d6fcba9f2f3e"
      },
      "execution_count": null,
      "outputs": [
        {
          "output_type": "stream",
          "name": "stdout",
          "text": [
            "[[1. 1. 1. 1.]\n",
            " [1. 1. 1. 1.]\n",
            " [1. 1. 1. 1.]]\n"
          ]
        }
      ]
    },
    {
      "cell_type": "code",
      "source": [
        "arr1s = np.ones((2,3,4))\n",
        "print(arr1s)"
      ],
      "metadata": {
        "colab": {
          "base_uri": "https://localhost:8080/"
        },
        "id": "O8PCCARGSznT",
        "outputId": "4ed6a2cc-6070-44f2-edd6-0388e3064cbf"
      },
      "execution_count": null,
      "outputs": [
        {
          "output_type": "stream",
          "name": "stdout",
          "text": [
            "[[[1. 1. 1. 1.]\n",
            "  [1. 1. 1. 1.]\n",
            "  [1. 1. 1. 1.]]\n",
            "\n",
            " [[1. 1. 1. 1.]\n",
            "  [1. 1. 1. 1.]\n",
            "  [1. 1. 1. 1.]]]\n"
          ]
        }
      ]
    },
    {
      "cell_type": "code",
      "source": [
        "arr1s = 12*np.ones((2,3,4))\n",
        "print(arr1s)"
      ],
      "metadata": {
        "colab": {
          "base_uri": "https://localhost:8080/"
        },
        "id": "5VbaX888S-g3",
        "outputId": "64416177-5e8c-410a-b4a0-5b7772401acf"
      },
      "execution_count": null,
      "outputs": [
        {
          "output_type": "stream",
          "name": "stdout",
          "text": [
            "[[[12. 12. 12. 12.]\n",
            "  [12. 12. 12. 12.]\n",
            "  [12. 12. 12. 12.]]\n",
            "\n",
            " [[12. 12. 12. 12.]\n",
            "  [12. 12. 12. 12.]\n",
            "  [12. 12. 12. 12.]]]\n"
          ]
        }
      ]
    },
    {
      "cell_type": "code",
      "source": [
        "arros = np.zeros((2,3,4))\n",
        "print(arros)"
      ],
      "metadata": {
        "colab": {
          "base_uri": "https://localhost:8080/"
        },
        "id": "8piVrlQETKJ_",
        "outputId": "be95e96c-7881-4e7c-a854-5c8d3b1643dc"
      },
      "execution_count": null,
      "outputs": [
        {
          "output_type": "stream",
          "name": "stdout",
          "text": [
            "[[[0. 0. 0. 0.]\n",
            "  [0. 0. 0. 0.]\n",
            "  [0. 0. 0. 0.]]\n",
            "\n",
            " [[0. 0. 0. 0.]\n",
            "  [0. 0. 0. 0.]\n",
            "  [0. 0. 0. 0.]]]\n"
          ]
        }
      ]
    },
    {
      "cell_type": "markdown",
      "source": [
        "# Random"
      ],
      "metadata": {
        "id": "OT0REY47TXvT"
      }
    },
    {
      "cell_type": "code",
      "source": [
        "np.random.rand(3,3)"
      ],
      "metadata": {
        "colab": {
          "base_uri": "https://localhost:8080/"
        },
        "id": "90JmqvPnTXYy",
        "outputId": "047e4c90-9981-4b7d-9aef-e7c58f148eb1"
      },
      "execution_count": null,
      "outputs": [
        {
          "output_type": "execute_result",
          "data": {
            "text/plain": [
              "array([[0.08425101, 0.75683133, 0.7072109 ],\n",
              "       [0.68354249, 0.25276973, 0.90353977],\n",
              "       [0.42741492, 0.46523142, 0.36816719]])"
            ]
          },
          "metadata": {},
          "execution_count": 33
        }
      ]
    },
    {
      "cell_type": "code",
      "source": [
        "np.random.rand(2,3)"
      ],
      "metadata": {
        "colab": {
          "base_uri": "https://localhost:8080/"
        },
        "id": "2Ij0CpqGTvRp",
        "outputId": "53052299-e635-4f08-e454-80752ed65931"
      },
      "execution_count": null,
      "outputs": [
        {
          "output_type": "execute_result",
          "data": {
            "text/plain": [
              "array([[0.35886785, 0.36904446, 0.97823166],\n",
              "       [0.67234975, 0.58634752, 0.69668721]])"
            ]
          },
          "metadata": {},
          "execution_count": 34
        }
      ]
    },
    {
      "cell_type": "code",
      "source": [
        "np.random.randint(0,100,(2,3))"
      ],
      "metadata": {
        "colab": {
          "base_uri": "https://localhost:8080/"
        },
        "id": "odH8loI2tdty",
        "outputId": "c13a1cf6-fa79-4445-ed0b-72184b210404"
      },
      "execution_count": null,
      "outputs": [
        {
          "output_type": "execute_result",
          "data": {
            "text/plain": [
              "array([[21, 92, 20],\n",
              "       [35, 40, 48]])"
            ]
          },
          "metadata": {},
          "execution_count": 35
        }
      ]
    },
    {
      "cell_type": "code",
      "source": [
        "np.arange(0,50, 5)"
      ],
      "metadata": {
        "colab": {
          "base_uri": "https://localhost:8080/"
        },
        "id": "M6UKIRXVtvrb",
        "outputId": "5776e7b2-1613-4b46-b76c-df30c90fba19"
      },
      "execution_count": null,
      "outputs": [
        {
          "output_type": "execute_result",
          "data": {
            "text/plain": [
              "array([ 0,  5, 10, 15, 20, 25, 30, 35, 40, 45])"
            ]
          },
          "metadata": {},
          "execution_count": 38
        }
      ]
    },
    {
      "cell_type": "code",
      "source": [
        "np.linspace(7,70,10)"
      ],
      "metadata": {
        "colab": {
          "base_uri": "https://localhost:8080/"
        },
        "id": "3f0CA3VauHRc",
        "outputId": "868ea2fb-8221-4246-b80d-0c4222e38db3"
      },
      "execution_count": null,
      "outputs": [
        {
          "output_type": "execute_result",
          "data": {
            "text/plain": [
              "array([ 7., 14., 21., 28., 35., 42., 49., 56., 63., 70.])"
            ]
          },
          "metadata": {},
          "execution_count": 39
        }
      ]
    },
    {
      "cell_type": "code",
      "source": [
        "x=np.array([True, False, False, True])\n",
        "print(x)"
      ],
      "metadata": {
        "colab": {
          "base_uri": "https://localhost:8080/"
        },
        "id": "Uw80zMJbuQf-",
        "outputId": "3a526ce3-b33e-4095-f3c9-06e3d19b4831"
      },
      "execution_count": null,
      "outputs": [
        {
          "output_type": "stream",
          "name": "stdout",
          "text": [
            "[ True False False  True]\n"
          ]
        }
      ]
    },
    {
      "cell_type": "code",
      "source": [
        "arrStr=np.array([\"1.4\",\"20.1\",\"11.2\",\"6.2\"])\n",
        "print(arrStr)\n"
      ],
      "metadata": {
        "colab": {
          "base_uri": "https://localhost:8080/"
        },
        "id": "WFbfQZdvufGi",
        "outputId": "b536b067-c445-4aa2-fb48-beaa054b33e5"
      },
      "execution_count": null,
      "outputs": [
        {
          "output_type": "stream",
          "name": "stdout",
          "text": [
            "['1.4' '20.1' '11.2' '6.2']\n"
          ]
        }
      ]
    },
    {
      "cell_type": "code",
      "source": [
        "arrStr=np.array([\"1.4\",\"20.1\",\"11.2\",\"6.2\"], dtype=\"float\")\n",
        "print(arrStr)\n"
      ],
      "metadata": {
        "colab": {
          "base_uri": "https://localhost:8080/"
        },
        "id": "NpcpLgr_u-Bb",
        "outputId": "150c0c7b-f21d-42d9-cb98-f96dc898556d"
      },
      "execution_count": null,
      "outputs": [
        {
          "output_type": "stream",
          "name": "stdout",
          "text": [
            "[ 1.4 20.1 11.2  6.2]\n"
          ]
        }
      ]
    },
    {
      "cell_type": "code",
      "source": [
        "arrStr=np.array([1.4,20.1,11.2,6.2], dtype=\"int\")\n",
        "print(arrStr)"
      ],
      "metadata": {
        "colab": {
          "base_uri": "https://localhost:8080/"
        },
        "id": "wx9ZOT-cvFue",
        "outputId": "838e8717-d053-41fc-e2a9-7d0580a18934"
      },
      "execution_count": null,
      "outputs": [
        {
          "output_type": "stream",
          "name": "stdout",
          "text": [
            "[ 1 20 11  6]\n"
          ]
        }
      ]
    },
    {
      "cell_type": "markdown",
      "source": [
        "# Indexing Arrays"
      ],
      "metadata": {
        "id": "8025csU2e3uC"
      }
    },
    {
      "cell_type": "code",
      "source": [
        "arr3d = np.array([\n",
        "              [\n",
        "                  [1,2,3],\n",
        "                  [4,5,6]\n",
        "              ],\n",
        "              [\n",
        "                  [7,8,9],\n",
        "                  [10,11,12]\n",
        "              ]\n",
        "\n",
        "                  ])\n",
        "print(arr3d[0,0,0])\n",
        "\n"
      ],
      "metadata": {
        "colab": {
          "base_uri": "https://localhost:8080/"
        },
        "id": "VeIKWNKOe62L",
        "outputId": "c609f592-e6c3-4b9c-c517-23926232ab01"
      },
      "execution_count": null,
      "outputs": [
        {
          "output_type": "stream",
          "name": "stdout",
          "text": [
            "1\n"
          ]
        }
      ]
    },
    {
      "cell_type": "markdown",
      "source": [
        "print first dimension"
      ],
      "metadata": {
        "id": "uDBUDYazgL1t"
      }
    },
    {
      "cell_type": "code",
      "source": [
        "arr3d.shape"
      ],
      "metadata": {
        "colab": {
          "base_uri": "https://localhost:8080/"
        },
        "id": "alcOlNeQgLLW",
        "outputId": "5511ebb4-b665-48f5-d044-f1788acc71ef"
      },
      "execution_count": null,
      "outputs": [
        {
          "output_type": "execute_result",
          "data": {
            "text/plain": [
              "(2, 2, 3)"
            ]
          },
          "metadata": {},
          "execution_count": 19
        }
      ]
    },
    {
      "cell_type": "code",
      "source": [
        "arr3d[0,0,0] #inexing 0,0,0 of the array"
      ],
      "metadata": {
        "colab": {
          "base_uri": "https://localhost:8080/"
        },
        "id": "J374jbhcgfmg",
        "outputId": "da4df3e6-8eeb-48fc-ed80-353555d7613b"
      },
      "execution_count": null,
      "outputs": [
        {
          "output_type": "execute_result",
          "data": {
            "text/plain": [
              "1"
            ]
          },
          "metadata": {},
          "execution_count": 21
        }
      ]
    },
    {
      "cell_type": "code",
      "source": [
        "arr3d[0,1,2]"
      ],
      "metadata": {
        "colab": {
          "base_uri": "https://localhost:8080/"
        },
        "id": "afhG2S3nglA3",
        "outputId": "95eaaf08-0056-4acb-c9e1-b65603512d44"
      },
      "execution_count": null,
      "outputs": [
        {
          "output_type": "execute_result",
          "data": {
            "text/plain": [
              "6"
            ]
          },
          "metadata": {},
          "execution_count": 23
        }
      ]
    },
    {
      "cell_type": "code",
      "source": [
        "arr3d[1,0,0]"
      ],
      "metadata": {
        "colab": {
          "base_uri": "https://localhost:8080/"
        },
        "id": "Ql_W68oRj1-P",
        "outputId": "c3ea236b-73b5-440a-f6ef-2547d374a397"
      },
      "execution_count": null,
      "outputs": [
        {
          "output_type": "execute_result",
          "data": {
            "text/plain": [
              "7"
            ]
          },
          "metadata": {},
          "execution_count": 24
        }
      ]
    },
    {
      "cell_type": "code",
      "source": [
        "arr3d[1,1,2]"
      ],
      "metadata": {
        "colab": {
          "base_uri": "https://localhost:8080/"
        },
        "id": "qGPeuKKkkBe-",
        "outputId": "6a70c475-1a80-46ee-8a13-dbbd1a0be73f"
      },
      "execution_count": null,
      "outputs": [
        {
          "output_type": "execute_result",
          "data": {
            "text/plain": [
              "12"
            ]
          },
          "metadata": {},
          "execution_count": 25
        }
      ]
    },
    {
      "cell_type": "markdown",
      "source": [
        "slicing of arrays"
      ],
      "metadata": {
        "id": "7D7pc2KPkS3X"
      }
    },
    {
      "cell_type": "code",
      "source": [
        "arr3d[0,::]  # shows only one dimesion array"
      ],
      "metadata": {
        "colab": {
          "base_uri": "https://localhost:8080/"
        },
        "id": "7o3VpWtJkVFC",
        "outputId": "4ac3342e-da8f-4152-da65-d412ea689db3"
      },
      "execution_count": null,
      "outputs": [
        {
          "output_type": "execute_result",
          "data": {
            "text/plain": [
              "array([[1, 2, 3],\n",
              "       [4, 5, 6]])"
            ]
          },
          "metadata": {},
          "execution_count": 85
        }
      ]
    },
    {
      "cell_type": "code",
      "source": [
        "arr3d[1,::]  # shows only one dimesion array"
      ],
      "metadata": {
        "colab": {
          "base_uri": "https://localhost:8080/"
        },
        "id": "Jb8Yh8Rvk0xk",
        "outputId": "c8ba1281-9fe6-40fe-a3d7-80effd9f86dd"
      },
      "execution_count": null,
      "outputs": [
        {
          "output_type": "execute_result",
          "data": {
            "text/plain": [
              "array([[ 7,  8,  9],\n",
              "       [10, 11, 12]])"
            ]
          },
          "metadata": {},
          "execution_count": 35
        }
      ]
    },
    {
      "cell_type": "code",
      "source": [
        "arr3d[: ,1, :]  # shows only 2nd row of the all matrix"
      ],
      "metadata": {
        "colab": {
          "base_uri": "https://localhost:8080/"
        },
        "id": "xEKqzZgYlE32",
        "outputId": "ffb355df-28b2-4da5-e7fa-e9eedcb8ee4a"
      },
      "execution_count": null,
      "outputs": [
        {
          "output_type": "execute_result",
          "data": {
            "text/plain": [
              "array([[ 4,  5,  6],\n",
              "       [10, 11, 12]])"
            ]
          },
          "metadata": {},
          "execution_count": 88
        }
      ]
    },
    {
      "cell_type": "code",
      "source": [
        "arr3d[: ,0, :]  # shows only 2nd row of the all matrix"
      ],
      "metadata": {
        "colab": {
          "base_uri": "https://localhost:8080/"
        },
        "id": "66CMBY5ploev",
        "outputId": "016ccc25-6477-4086-d095-02a9a5f3e67d"
      },
      "execution_count": null,
      "outputs": [
        {
          "output_type": "execute_result",
          "data": {
            "text/plain": [
              "array([[1, 2, 3],\n",
              "       [7, 8, 9]])"
            ]
          },
          "metadata": {},
          "execution_count": 89
        }
      ]
    },
    {
      "cell_type": "code",
      "source": [
        "arr3d[  :,  :,  0:1  ] #both rows but 0 a,d 1 column"
      ],
      "metadata": {
        "colab": {
          "base_uri": "https://localhost:8080/"
        },
        "id": "nSW-fHegsZbT",
        "outputId": "0f9c5cae-33d5-469f-a07d-72e81b4e74c7"
      },
      "execution_count": null,
      "outputs": [
        {
          "output_type": "execute_result",
          "data": {
            "text/plain": [
              "array([[[ 1],\n",
              "        [ 4]],\n",
              "\n",
              "       [[ 7],\n",
              "        [10]]])"
            ]
          },
          "metadata": {},
          "execution_count": 78
        }
      ]
    },
    {
      "cell_type": "markdown",
      "source": [
        "get indices of even numbers in array"
      ],
      "metadata": {
        "id": "mTp45Z25te-s"
      }
    },
    {
      "cell_type": "code",
      "source": [
        "print(arr3d % 2 ==0 ) # eah element will be divided and boolen is assigned"
      ],
      "metadata": {
        "colab": {
          "base_uri": "https://localhost:8080/"
        },
        "id": "Adw-aEmwteX4",
        "outputId": "bf6e031a-6fdb-446f-a27b-58a8a7541877"
      },
      "execution_count": null,
      "outputs": [
        {
          "output_type": "stream",
          "name": "stdout",
          "text": [
            "[[[False  True False]\n",
            "  [ True False  True]]\n",
            "\n",
            " [[False  True False]\n",
            "  [ True False  True]]]\n"
          ]
        }
      ]
    },
    {
      "cell_type": "markdown",
      "source": [
        "Find all even numbers in a Array"
      ],
      "metadata": {
        "id": "o3YYCI0Mu3L7"
      }
    },
    {
      "cell_type": "code",
      "source": [
        "arr3d[arr3d % 2 == 0]"
      ],
      "metadata": {
        "colab": {
          "base_uri": "https://localhost:8080/"
        },
        "id": "Z7VrZ4t6t5Te",
        "outputId": "0ea11717-85e5-4d73-9b66-8e1aa4b6da1e"
      },
      "execution_count": null,
      "outputs": [
        {
          "output_type": "execute_result",
          "data": {
            "text/plain": [
              "array([ 2,  4,  6,  8, 10, 12])"
            ]
          },
          "metadata": {},
          "execution_count": 103
        }
      ]
    },
    {
      "cell_type": "markdown",
      "source": [
        "find all odd numbers with array GT 3"
      ],
      "metadata": {
        "id": "LHJEbe81uP_i"
      }
    },
    {
      "cell_type": "code",
      "source": [
        "arr3d[(arr3d % 2 == 1) & (arr3d > 3)]"
      ],
      "metadata": {
        "colab": {
          "base_uri": "https://localhost:8080/"
        },
        "id": "oWWK82EruKNX",
        "outputId": "9d009837-cde8-4bea-d5db-c33f3d4462b7"
      },
      "execution_count": null,
      "outputs": [
        {
          "output_type": "execute_result",
          "data": {
            "text/plain": [
              "array([ 5,  7,  9, 11])"
            ]
          },
          "metadata": {},
          "execution_count": 102
        }
      ]
    },
    {
      "cell_type": "code",
      "source": [
        "arr_slice = arr3d[  :,  :,  0:2  ]\n",
        "print(arr_slice)\n",
        "print(type(arr_slice))\n",
        "print(arr_slice.size)\n",
        "print(arr_slice.shape)\n",
        "print(arr_slice[1,0,0])"
      ],
      "metadata": {
        "colab": {
          "base_uri": "https://localhost:8080/"
        },
        "id": "1Ar7oW4MvRaN",
        "outputId": "ba708f78-ef9c-412d-a5f1-3aa586d8810f"
      },
      "execution_count": null,
      "outputs": [
        {
          "output_type": "stream",
          "name": "stdout",
          "text": [
            "[[[ 1  2]\n",
            "  [ 4  5]]\n",
            "\n",
            " [[ 7  8]\n",
            "  [10 11]]]\n",
            "<class 'numpy.ndarray'>\n",
            "8\n",
            "(2, 2, 2)\n",
            "7\n"
          ]
        }
      ]
    },
    {
      "cell_type": "code",
      "source": [
        "arr_slice[1,0,0]=999\n",
        "print(arr_slice)"
      ],
      "metadata": {
        "colab": {
          "base_uri": "https://localhost:8080/"
        },
        "id": "C1m6JZeR2q-Q",
        "outputId": "49477e5d-95d4-483a-c760-01fab60a696f"
      },
      "execution_count": null,
      "outputs": [
        {
          "output_type": "stream",
          "name": "stdout",
          "text": [
            "[[[  1   2]\n",
            "  [  4   5]]\n",
            "\n",
            " [[999   8]\n",
            "  [ 10  11]]]\n"
          ]
        }
      ]
    },
    {
      "cell_type": "markdown",
      "source": [
        "it also changes the original array"
      ],
      "metadata": {
        "id": "P2SUWL_A225r"
      }
    },
    {
      "cell_type": "code",
      "source": [
        "arr3d\n"
      ],
      "metadata": {
        "colab": {
          "base_uri": "https://localhost:8080/"
        },
        "id": "edeecYqg28BO",
        "outputId": "a4a984fe-fa4c-4ac2-cd2b-2d6a953b7e5e"
      },
      "execution_count": null,
      "outputs": [
        {
          "output_type": "execute_result",
          "data": {
            "text/plain": [
              "array([[[  1,   2,   3],\n",
              "        [  4,   5,   6]],\n",
              "\n",
              "       [[999,   8,   9],\n",
              "        [ 10,  11,  12]]])"
            ]
          },
          "metadata": {},
          "execution_count": 114
        }
      ]
    },
    {
      "cell_type": "markdown",
      "source": [
        "if we change in the original it will  reflect in the sub array"
      ],
      "metadata": {
        "id": "3nx9SYBB3k38"
      }
    },
    {
      "cell_type": "code",
      "source": [
        "arr3d[1,0,0] =7\n",
        "arr3d\n",
        "print(arr_slice)"
      ],
      "metadata": {
        "colab": {
          "base_uri": "https://localhost:8080/"
        },
        "id": "SQvFFvms3i28",
        "outputId": "64322775-7d26-4d79-81c0-662455ce37a7"
      },
      "execution_count": null,
      "outputs": [
        {
          "output_type": "stream",
          "name": "stdout",
          "text": [
            "[[[ 1  2]\n",
            "  [ 4  5]]\n",
            "\n",
            " [[ 7  8]\n",
            "  [10 11]]]\n"
          ]
        }
      ]
    },
    {
      "cell_type": "markdown",
      "source": [
        "if we do a deep copy then the original is not affected"
      ],
      "metadata": {
        "id": "A2YlFp6j4MEu"
      }
    },
    {
      "cell_type": "code",
      "source": [
        "arr_slice = np.copy(arr3d[  :,  :,  0:2  ])\n",
        "print(arr_slice)"
      ],
      "metadata": {
        "colab": {
          "base_uri": "https://localhost:8080/"
        },
        "id": "kMwJQ2YK4LIO",
        "outputId": "d280796b-ccd4-4c17-d770-837929f7fde3"
      },
      "execution_count": null,
      "outputs": [
        {
          "output_type": "stream",
          "name": "stdout",
          "text": [
            "[[[ 1  2]\n",
            "  [ 4  5]]\n",
            "\n",
            " [[ 7  8]\n",
            "  [10 11]]]\n"
          ]
        }
      ]
    },
    {
      "cell_type": "markdown",
      "source": [
        "you can also use indexing on arrays\n",
        "\n",
        "```\n",
        "# This is formatted as code\n",
        "```\n",
        "\n"
      ],
      "metadata": {
        "id": "rJ51GWsg4oBT"
      }
    },
    {
      "cell_type": "code",
      "source": [
        "larr=np.random.randint(0,10,5)\n",
        "print(larr)"
      ],
      "metadata": {
        "colab": {
          "base_uri": "https://localhost:8080/"
        },
        "id": "UT8yIBuL4rob",
        "outputId": "1fd34f8c-fd98-4641-8f71-5db447d34216"
      },
      "execution_count": null,
      "outputs": [
        {
          "output_type": "stream",
          "name": "stdout",
          "text": [
            "[6 0 9 0 4]\n"
          ]
        }
      ]
    },
    {
      "cell_type": "code",
      "source": [
        "my_indices = [1,3,4]\n",
        "larr[my_indices]"
      ],
      "metadata": {
        "colab": {
          "base_uri": "https://localhost:8080/"
        },
        "id": "H5Sxnm6b6yAU",
        "outputId": "f5093fa3-1d79-4f81-aa1d-5994827d5145"
      },
      "execution_count": null,
      "outputs": [
        {
          "output_type": "execute_result",
          "data": {
            "text/plain": [
              "array([0, 0, 4])"
            ]
          },
          "metadata": {},
          "execution_count": 120
        }
      ]
    },
    {
      "cell_type": "markdown",
      "source": [
        "Operations on numpy array"
      ],
      "metadata": {
        "id": "s4AIRvsB7xuE"
      }
    },
    {
      "cell_type": "code",
      "source": [
        "arr1= np.random.rand(3,4)\n",
        "arr2= np.random.rand(3,4)"
      ],
      "metadata": {
        "id": "EYhwmWD870yh"
      },
      "execution_count": null,
      "outputs": []
    },
    {
      "cell_type": "code",
      "source": [
        "arr1+arr2"
      ],
      "metadata": {
        "colab": {
          "base_uri": "https://localhost:8080/"
        },
        "id": "Jdjrlt518Fi3",
        "outputId": "bc7a0771-17e6-42f9-9612-cd8b70f85665"
      },
      "execution_count": null,
      "outputs": [
        {
          "output_type": "execute_result",
          "data": {
            "text/plain": [
              "array([[1.11927253, 0.99634418, 0.9578525 , 1.4878038 ],\n",
              "       [0.46511732, 1.5945864 , 1.08276699, 0.78156265],\n",
              "       [1.51148878, 1.00903695, 1.48133051, 1.48579658]])"
            ]
          },
          "metadata": {},
          "execution_count": 131
        }
      ]
    },
    {
      "cell_type": "code",
      "source": [
        "arr1-arr2"
      ],
      "metadata": {
        "colab": {
          "base_uri": "https://localhost:8080/"
        },
        "id": "8qmy6Vd883Up",
        "outputId": "94ef83ff-af79-4237-abad-c88db8a9b70e"
      },
      "execution_count": null,
      "outputs": [
        {
          "output_type": "execute_result",
          "data": {
            "text/plain": [
              "array([[ 0.7008203 ,  0.01471901, -0.52917736, -0.43707588],\n",
              "       [-0.04888785,  0.01300825, -0.25782561,  0.01854153],\n",
              "       [ 0.05116904, -0.85519308,  0.38508121,  0.41692173]])"
            ]
          },
          "metadata": {},
          "execution_count": 132
        }
      ]
    },
    {
      "cell_type": "code",
      "source": [
        "arr1*arr2"
      ],
      "metadata": {
        "colab": {
          "base_uri": "https://localhost:8080/"
        },
        "id": "7QjzNtiF87pg",
        "outputId": "ad21d2b0-e0fc-45c4-bcfd-54fedbf493f0"
      },
      "execution_count": null,
      "outputs": [
        {
          "output_type": "execute_result",
          "data": {
            "text/plain": [
              "array([[0.19040548, 0.24812127, 0.15936318, 0.5056312 ],\n",
              "       [0.05348602, 0.63563414, 0.27647758, 0.1526241 ],\n",
              "       [0.57049502, 0.07170009, 0.51151314, 0.50844193]])"
            ]
          },
          "metadata": {},
          "execution_count": 133
        }
      ]
    },
    {
      "cell_type": "code",
      "source": [
        "arr1/arr2"
      ],
      "metadata": {
        "colab": {
          "base_uri": "https://localhost:8080/"
        },
        "id": "JoP59_x18-O6",
        "outputId": "dac0a50c-5d36-4b20-9b71-5c317aa985ea"
      },
      "execution_count": null,
      "outputs": [
        {
          "output_type": "execute_result",
          "data": {
            "text/plain": [
              "array([[4.34958323, 1.02998907, 0.28827608, 0.54586681],\n",
              "       [0.80977682, 1.01644971, 0.61535576, 1.0486003 ],\n",
              "       [1.07007923, 0.08252408, 1.70254313, 1.78011329]])"
            ]
          },
          "metadata": {},
          "execution_count": 134
        }
      ]
    },
    {
      "cell_type": "code",
      "source": [
        "np.exp(arr1)"
      ],
      "metadata": {
        "colab": {
          "base_uri": "https://localhost:8080/"
        },
        "id": "l4obfoOv9YoK",
        "outputId": "561ea756-fb4a-4f55-c61e-14debfaf0846"
      },
      "execution_count": null,
      "outputs": [
        {
          "output_type": "execute_result",
          "data": {
            "text/plain": [
              "array([[2.48443784, 1.6578666 , 1.23904085, 1.69107422],\n",
              "       [1.23135444, 2.2340081 , 1.51054527, 1.4919024 ],\n",
              "       [2.18437318, 1.07995776, 2.5426475 , 2.58922643]])"
            ]
          },
          "metadata": {},
          "execution_count": 135
        }
      ]
    },
    {
      "cell_type": "code",
      "source": [
        "np.log(arr1)"
      ],
      "metadata": {
        "colab": {
          "base_uri": "https://localhost:8080/"
        },
        "id": "xlXe-caS9eNc",
        "outputId": "dea26bd4-0d8f-4ffd-b80f-982714d89b23"
      },
      "execution_count": null,
      "outputs": [
        {
          "output_type": "execute_result",
          "data": {
            "text/plain": [
              "array([[-0.09425968, -0.68214474, -1.54020308, -0.643664  ],\n",
              "       [-1.56966574, -0.21840812, -0.88559013, -0.91616052],\n",
              "       [-0.24675908, -2.56496425, -0.06912946, -0.04986363]])"
            ]
          },
          "metadata": {},
          "execution_count": 136
        }
      ]
    },
    {
      "cell_type": "markdown",
      "source": [
        "Log and exponentation is inverse function"
      ],
      "metadata": {
        "id": "8AUELUFa9wxr"
      }
    },
    {
      "cell_type": "code",
      "source": [
        "np.log(np.exp(arr1))"
      ],
      "metadata": {
        "colab": {
          "base_uri": "https://localhost:8080/"
        },
        "id": "wE0lFsZv9pXS",
        "outputId": "4d25128f-a7ad-41c8-ad9a-46bc73768c7a"
      },
      "execution_count": null,
      "outputs": [
        {
          "output_type": "execute_result",
          "data": {
            "text/plain": [
              "array([[0.91004641, 0.5055316 , 0.21433757, 0.52536396],\n",
              "       [0.20811474, 0.80379733, 0.41247069, 0.40005209],\n",
              "       [0.78132891, 0.07692193, 0.93320586, 0.95135916]])"
            ]
          },
          "metadata": {},
          "execution_count": 137
        }
      ]
    },
    {
      "cell_type": "code",
      "source": [
        "np.sin(arr1)"
      ],
      "metadata": {
        "colab": {
          "base_uri": "https://localhost:8080/"
        },
        "id": "A-GXP_xd91gK",
        "outputId": "bddd45df-3af9-4900-def7-029aee00627a"
      },
      "execution_count": null,
      "outputs": [
        {
          "output_type": "execute_result",
          "data": {
            "text/plain": [
              "array([[0.78953222, 0.48427261, 0.2127002 , 0.50152791],\n",
              "       [0.20661568, 0.71999653, 0.40087403, 0.38946632],\n",
              "       [0.70422354, 0.0768461 , 0.80353239, 0.81420535]])"
            ]
          },
          "metadata": {},
          "execution_count": 138
        }
      ]
    },
    {
      "cell_type": "code",
      "source": [
        "np.sqrt(arr1)"
      ],
      "metadata": {
        "colab": {
          "base_uri": "https://localhost:8080/"
        },
        "id": "heglmTVN96UB",
        "outputId": "63788249-5511-40ca-90c6-ffcf6847bb0c"
      },
      "execution_count": null,
      "outputs": [
        {
          "output_type": "execute_result",
          "data": {
            "text/plain": [
              "array([[0.95396353, 0.71100745, 0.46296606, 0.72481995],\n",
              "       [0.45619594, 0.89654745, 0.64223881, 0.63249671],\n",
              "       [0.88392811, 0.27734803, 0.96602581, 0.97537642]])"
            ]
          },
          "metadata": {},
          "execution_count": 139
        }
      ]
    },
    {
      "cell_type": "code",
      "source": [
        "np.sum(arr1)"
      ],
      "metadata": {
        "colab": {
          "base_uri": "https://localhost:8080/"
        },
        "id": "JI_Bf_oQ-ni8",
        "outputId": "f6bb997c-a558-41e1-ac84-ca344a3e9af9"
      },
      "execution_count": null,
      "outputs": [
        {
          "output_type": "execute_result",
          "data": {
            "text/plain": [
              "6.7225302379181695"
            ]
          },
          "metadata": {},
          "execution_count": 140
        }
      ]
    },
    {
      "cell_type": "code",
      "source": [
        "a = np.array([\n",
        "              [1, 2],\n",
        "              [3, 4]\n",
        "            ])\n",
        "print(np.mean(a))\n",
        "\n",
        "print(np.mean(a, axis=0))\n",
        "\n",
        "print(np.mean(a, axis=1))\n"
      ],
      "metadata": {
        "colab": {
          "base_uri": "https://localhost:8080/"
        },
        "id": "v3ZUeErU-9Cy",
        "outputId": "ebb4c3c2-753d-4bc3-942a-0d71717e1549"
      },
      "execution_count": null,
      "outputs": [
        {
          "output_type": "stream",
          "name": "stdout",
          "text": [
            "2.5\n",
            "[2. 3.]\n",
            "[1.5 3.5]\n"
          ]
        }
      ]
    },
    {
      "cell_type": "code",
      "source": [
        "arr_inverse = 1/arr1\n",
        "arr_inverse"
      ],
      "metadata": {
        "colab": {
          "base_uri": "https://localhost:8080/"
        },
        "id": "-7tPeIr1AFQa",
        "outputId": "e266de13-ca17-4581-e48e-9e2739972c7c"
      },
      "execution_count": null,
      "outputs": [
        {
          "output_type": "execute_result",
          "data": {
            "text/plain": [
              "array([[ 1.09884505,  1.97811572,  4.66553765,  1.90344233],\n",
              "       [ 4.80504179,  1.24409471,  2.42441468,  2.4996745 ],\n",
              "       [ 1.27987072, 13.00019356,  1.07157492,  1.05112774]])"
            ]
          },
          "metadata": {},
          "execution_count": 143
        }
      ]
    },
    {
      "cell_type": "code",
      "source": [
        "arr0=np.zeros((3,3))\n",
        "arr_inverse = 1/arr0\n",
        "arr_inverse"
      ],
      "metadata": {
        "colab": {
          "base_uri": "https://localhost:8080/"
        },
        "id": "bYcc3_tWActG",
        "outputId": "31823860-f42b-4b58-e12d-a61a197f58cf"
      },
      "execution_count": null,
      "outputs": [
        {
          "output_type": "stream",
          "name": "stderr",
          "text": [
            "/usr/local/lib/python3.7/dist-packages/ipykernel_launcher.py:2: RuntimeWarning: divide by zero encountered in true_divide\n",
            "  \n"
          ]
        },
        {
          "output_type": "execute_result",
          "data": {
            "text/plain": [
              "array([[inf, inf, inf],\n",
              "       [inf, inf, inf],\n",
              "       [inf, inf, inf]])"
            ]
          },
          "metadata": {},
          "execution_count": 145
        }
      ]
    },
    {
      "cell_type": "code",
      "source": [
        "np.isinf(arr_inverse[0,1])"
      ],
      "metadata": {
        "colab": {
          "base_uri": "https://localhost:8080/"
        },
        "id": "2WHSzx_oA6L3",
        "outputId": "03da1e64-1ea7-4a1a-fced-27872dc00144"
      },
      "execution_count": null,
      "outputs": [
        {
          "output_type": "execute_result",
          "data": {
            "text/plain": [
              "True"
            ]
          },
          "metadata": {},
          "execution_count": 146
        }
      ]
    },
    {
      "cell_type": "code",
      "source": [
        "np.isinf(arr_inverse)"
      ],
      "metadata": {
        "colab": {
          "base_uri": "https://localhost:8080/"
        },
        "id": "AuJ9YYx6BF-e",
        "outputId": "8edaa65e-41e4-4932-8b89-c9e869437639"
      },
      "execution_count": null,
      "outputs": [
        {
          "output_type": "execute_result",
          "data": {
            "text/plain": [
              "array([[ True,  True,  True],\n",
              "       [ True,  True,  True],\n",
              "       [ True,  True,  True]])"
            ]
          },
          "metadata": {},
          "execution_count": 147
        }
      ]
    },
    {
      "cell_type": "markdown",
      "source": [],
      "metadata": {
        "id": "Oo3Mog28BM9f"
      }
    },
    {
      "cell_type": "markdown",
      "source": [
        "# Broadcasting  \n",
        "When to do broadcasting, go through your dimensions backwards and see if it matches then if missing add the dimenson to it "
      ],
      "metadata": {
        "id": "HHJr137hWxxo"
      }
    },
    {
      "cell_type": "code",
      "source": [
        "arr1 = np.arange(6)\n",
        "arr1 = arr1.reshape(3,2)\n",
        "arr2 = np.arange(6).reshape((3,2))\n",
        "arr1+arr2 # add 2 array of same size"
      ],
      "metadata": {
        "colab": {
          "base_uri": "https://localhost:8080/"
        },
        "id": "yfSPvfOGVjbC",
        "outputId": "a462970e-07ca-49fe-ef8c-f248a8d78ee2"
      },
      "execution_count": null,
      "outputs": [
        {
          "output_type": "execute_result",
          "data": {
            "text/plain": [
              "array([[ 0,  2],\n",
              "       [ 4,  6],\n",
              "       [ 8, 10]])"
            ]
          },
          "metadata": {},
          "execution_count": 9
        }
      ]
    },
    {
      "cell_type": "code",
      "source": [
        "arr2[0].reshape((1,2))"
      ],
      "metadata": {
        "colab": {
          "base_uri": "https://localhost:8080/"
        },
        "id": "J3BrDNcUZNy8",
        "outputId": "fa833823-55f0-46ec-9bb9-357d68547b6c"
      },
      "execution_count": null,
      "outputs": [
        {
          "output_type": "execute_result",
          "data": {
            "text/plain": [
              "array([[0, 1]])"
            ]
          },
          "metadata": {},
          "execution_count": 16
        }
      ]
    },
    {
      "cell_type": "code",
      "source": [
        "\n",
        "print(arr1, \" + \")\n",
        "print(arr2[0].reshape((1,2)))\n",
        "print(arr1+arr2[0].reshape((1,2))) # a [3,2] added with [1,2]"
      ],
      "metadata": {
        "colab": {
          "base_uri": "https://localhost:8080/"
        },
        "id": "fc9cFqJTaUyz",
        "outputId": "52602f6d-1e68-4b1b-a44f-ce42513e8de0"
      },
      "execution_count": null,
      "outputs": [
        {
          "output_type": "stream",
          "name": "stdout",
          "text": [
            "[[0 1]\n",
            " [2 3]\n",
            " [4 5]]  + \n",
            "[[0 1]]\n",
            "[[0 2]\n",
            " [2 4]\n",
            " [4 6]]\n"
          ]
        }
      ]
    },
    {
      "cell_type": "code",
      "source": [
        "print(arr2)\n",
        "print(arr2[: ,0].reshape((3,1)))\n",
        "print(arr2 + arr2[: ,0].reshape((3,1))) #adding [3,2] and [3,1]"
      ],
      "metadata": {
        "colab": {
          "base_uri": "https://localhost:8080/"
        },
        "id": "0hrqSkl9bMqg",
        "outputId": "107919ac-36d0-4595-9f1a-6fe00816182f"
      },
      "execution_count": null,
      "outputs": [
        {
          "output_type": "stream",
          "name": "stdout",
          "text": [
            "[[0 1]\n",
            " [2 3]\n",
            " [4 5]]\n",
            "[[0]\n",
            " [2]\n",
            " [4]]\n",
            "[[0 1]\n",
            " [4 5]\n",
            " [8 9]]\n"
          ]
        }
      ]
    },
    {
      "cell_type": "code",
      "source": [
        "# 2 planes, 3 roows and 4 columns\n",
        "arr234 = np.arange(1,25).reshape(2,3,4)\n",
        "arr111 = np.ones((1,4))\n",
        "\n",
        "print(arr111)\n",
        "print(arr234)\n",
        "print(arr234+arr111) #adding [2,3,4] to [1,4]\n",
        "# missing plane is added and 1 row is replicated to 3,\n",
        "#so the second array will be [2,3,4]"
      ],
      "metadata": {
        "colab": {
          "base_uri": "https://localhost:8080/"
        },
        "id": "qw8kUSO3ctyB",
        "outputId": "e6db84d7-a933-42d6-979c-18b4e745c93c"
      },
      "execution_count": null,
      "outputs": [
        {
          "output_type": "stream",
          "name": "stdout",
          "text": [
            "[[1. 1. 1. 1.]]\n",
            "[[[ 1  2  3  4]\n",
            "  [ 5  6  7  8]\n",
            "  [ 9 10 11 12]]\n",
            "\n",
            " [[13 14 15 16]\n",
            "  [17 18 19 20]\n",
            "  [21 22 23 24]]]\n",
            "[[[ 2.  3.  4.  5.]\n",
            "  [ 6.  7.  8.  9.]\n",
            "  [10. 11. 12. 13.]]\n",
            "\n",
            " [[14. 15. 16. 17.]\n",
            "  [18. 19. 20. 21.]\n",
            "  [22. 23. 24. 25.]]]\n"
          ]
        }
      ]
    },
    {
      "cell_type": "code",
      "source": [
        "_4ele = np.arange(4)\n",
        "_5ele = np.arange(5)\n",
        "print(_4ele.shape , _5ele.shape)\n",
        "print(_4ele+_5ele) # operands could not be broadcast together with shapes (4,) (5,) \n",
        "# error is due to incompatability of arrays"
      ],
      "metadata": {
        "colab": {
          "base_uri": "https://localhost:8080/",
          "height": 218
        },
        "id": "vC_jmYpIejjT",
        "outputId": "816087d6-186d-4908-9a57-364c4d97b0a8"
      },
      "execution_count": null,
      "outputs": [
        {
          "output_type": "stream",
          "name": "stdout",
          "text": [
            "(4,) (5,)\n"
          ]
        },
        {
          "output_type": "error",
          "ename": "ValueError",
          "evalue": "ignored",
          "traceback": [
            "\u001b[0;31m---------------------------------------------------------------------------\u001b[0m",
            "\u001b[0;31mValueError\u001b[0m                                Traceback (most recent call last)",
            "\u001b[0;32m<ipython-input-37-567f5d3f9807>\u001b[0m in \u001b[0;36m<module>\u001b[0;34m\u001b[0m\n\u001b[1;32m      2\u001b[0m \u001b[0m_5ele\u001b[0m \u001b[0;34m=\u001b[0m \u001b[0mnp\u001b[0m\u001b[0;34m.\u001b[0m\u001b[0marange\u001b[0m\u001b[0;34m(\u001b[0m\u001b[0;36m5\u001b[0m\u001b[0;34m)\u001b[0m\u001b[0;34m\u001b[0m\u001b[0;34m\u001b[0m\u001b[0m\n\u001b[1;32m      3\u001b[0m \u001b[0mprint\u001b[0m\u001b[0;34m(\u001b[0m\u001b[0m_4ele\u001b[0m\u001b[0;34m.\u001b[0m\u001b[0mshape\u001b[0m \u001b[0;34m,\u001b[0m \u001b[0m_5ele\u001b[0m\u001b[0;34m.\u001b[0m\u001b[0mshape\u001b[0m\u001b[0;34m)\u001b[0m\u001b[0;34m\u001b[0m\u001b[0;34m\u001b[0m\u001b[0m\n\u001b[0;32m----> 4\u001b[0;31m \u001b[0mprint\u001b[0m\u001b[0;34m(\u001b[0m\u001b[0m_4ele\u001b[0m\u001b[0;34m+\u001b[0m\u001b[0m_5ele\u001b[0m\u001b[0;34m)\u001b[0m\u001b[0;34m\u001b[0m\u001b[0;34m\u001b[0m\u001b[0m\n\u001b[0m",
            "\u001b[0;31mValueError\u001b[0m: operands could not be broadcast together with shapes (4,) (5,) "
          ]
        }
      ]
    },
    {
      "cell_type": "code",
      "source": [
        "_4ele = np.arange(4)\n",
        "_5ele = np.arange(5)\n",
        "print(_4ele.reshape(4,1), _5ele)\n",
        "print(_4ele.reshape(4,1) +  _5ele) # this works because [4,1] and [1,5] "
      ],
      "metadata": {
        "colab": {
          "base_uri": "https://localhost:8080/"
        },
        "id": "ghM1-gKaf3i9",
        "outputId": "3f1298ce-e294-4c2b-d456-eea39ef95113"
      },
      "execution_count": null,
      "outputs": [
        {
          "output_type": "stream",
          "name": "stdout",
          "text": [
            "[[0]\n",
            " [1]\n",
            " [2]\n",
            " [3]] [0 1 2 3 4]\n"
          ]
        }
      ]
    },
    {
      "cell_type": "markdown",
      "source": [
        "Transpose array i.e Row to Column"
      ],
      "metadata": {
        "id": "ATWK9QdhgwNN"
      }
    },
    {
      "cell_type": "code",
      "source": [
        "arr43 = np.random.randint(5, size=(4,3))\n",
        "x8= arr43.T\n",
        "print(x8)"
      ],
      "metadata": {
        "colab": {
          "base_uri": "https://localhost:8080/"
        },
        "id": "7TjBz8KNg0wc",
        "outputId": "9c68f630-029c-4b23-9e82-4ede75b86f66"
      },
      "execution_count": null,
      "outputs": [
        {
          "output_type": "stream",
          "name": "stdout",
          "text": [
            "[[1 1 4 2]\n",
            " [3 3 3 2]\n",
            " [2 4 4 3]]\n"
          ]
        }
      ]
    },
    {
      "cell_type": "code",
      "source": [
        "arr43"
      ],
      "metadata": {
        "colab": {
          "base_uri": "https://localhost:8080/"
        },
        "id": "lH6DCp7liESO",
        "outputId": "971929d8-4f26-455d-a2fc-7f9892475d7d"
      },
      "execution_count": null,
      "outputs": [
        {
          "output_type": "execute_result",
          "data": {
            "text/plain": [
              "array([[1, 3, 2],\n",
              "       [1, 3, 4],\n",
              "       [4, 3, 4],\n",
              "       [2, 2, 3]])"
            ]
          },
          "metadata": {},
          "execution_count": 53
        }
      ]
    },
    {
      "cell_type": "markdown",
      "source": [
        "# File Handling"
      ],
      "metadata": {
        "id": "aIMV4f9ylpa9"
      }
    },
    {
      "cell_type": "code",
      "source": [
        "planets_small = np.loadtxt(\"/content/drive/My Drive/Colab Notebooks/Numpy/planets_small.txt\")"
      ],
      "metadata": {
        "colab": {
          "base_uri": "https://localhost:8080/",
          "height": 329
        },
        "id": "k1_enQsppEht",
        "outputId": "e809ccf9-8a59-4c93-b1f7-dcff296996b3"
      },
      "execution_count": null,
      "outputs": [
        {
          "output_type": "error",
          "ename": "ValueError",
          "evalue": "ignored",
          "traceback": [
            "\u001b[0;31m---------------------------------------------------------------------------\u001b[0m",
            "\u001b[0;31mValueError\u001b[0m                                Traceback (most recent call last)",
            "\u001b[0;32m<ipython-input-56-65ef708dc01e>\u001b[0m in \u001b[0;36m<module>\u001b[0;34m\u001b[0m\n\u001b[0;32m----> 1\u001b[0;31m \u001b[0mplanets_small\u001b[0m \u001b[0;34m=\u001b[0m \u001b[0mnp\u001b[0m\u001b[0;34m.\u001b[0m\u001b[0mloadtxt\u001b[0m\u001b[0;34m(\u001b[0m\u001b[0;34m\"/content/drive/My Drive/Colab Notebooks/Numpy/planets_small.txt\"\u001b[0m\u001b[0;34m)\u001b[0m\u001b[0;34m\u001b[0m\u001b[0;34m\u001b[0m\u001b[0m\n\u001b[0m",
            "\u001b[0;32m/usr/local/lib/python3.7/dist-packages/numpy/lib/npyio.py\u001b[0m in \u001b[0;36mloadtxt\u001b[0;34m(fname, dtype, comments, delimiter, converters, skiprows, usecols, unpack, ndmin, encoding, max_rows, like)\u001b[0m\n\u001b[1;32m   1146\u001b[0m         \u001b[0;31m# converting the data\u001b[0m\u001b[0;34m\u001b[0m\u001b[0;34m\u001b[0m\u001b[0;34m\u001b[0m\u001b[0m\n\u001b[1;32m   1147\u001b[0m         \u001b[0mX\u001b[0m \u001b[0;34m=\u001b[0m \u001b[0;32mNone\u001b[0m\u001b[0;34m\u001b[0m\u001b[0;34m\u001b[0m\u001b[0m\n\u001b[0;32m-> 1148\u001b[0;31m         \u001b[0;32mfor\u001b[0m \u001b[0mx\u001b[0m \u001b[0;32min\u001b[0m \u001b[0mread_data\u001b[0m\u001b[0;34m(\u001b[0m\u001b[0m_loadtxt_chunksize\u001b[0m\u001b[0;34m)\u001b[0m\u001b[0;34m:\u001b[0m\u001b[0;34m\u001b[0m\u001b[0;34m\u001b[0m\u001b[0m\n\u001b[0m\u001b[1;32m   1149\u001b[0m             \u001b[0;32mif\u001b[0m \u001b[0mX\u001b[0m \u001b[0;32mis\u001b[0m \u001b[0;32mNone\u001b[0m\u001b[0;34m:\u001b[0m\u001b[0;34m\u001b[0m\u001b[0;34m\u001b[0m\u001b[0m\n\u001b[1;32m   1150\u001b[0m                 \u001b[0mX\u001b[0m \u001b[0;34m=\u001b[0m \u001b[0mnp\u001b[0m\u001b[0;34m.\u001b[0m\u001b[0marray\u001b[0m\u001b[0;34m(\u001b[0m\u001b[0mx\u001b[0m\u001b[0;34m,\u001b[0m \u001b[0mdtype\u001b[0m\u001b[0;34m)\u001b[0m\u001b[0;34m\u001b[0m\u001b[0;34m\u001b[0m\u001b[0m\n",
            "\u001b[0;32m/usr/local/lib/python3.7/dist-packages/numpy/lib/npyio.py\u001b[0m in \u001b[0;36mread_data\u001b[0;34m(chunk_size)\u001b[0m\n\u001b[1;32m    997\u001b[0m \u001b[0;34m\u001b[0m\u001b[0m\n\u001b[1;32m    998\u001b[0m             \u001b[0;31m# Convert each value according to its column and store\u001b[0m\u001b[0;34m\u001b[0m\u001b[0;34m\u001b[0m\u001b[0;34m\u001b[0m\u001b[0m\n\u001b[0;32m--> 999\u001b[0;31m             \u001b[0mitems\u001b[0m \u001b[0;34m=\u001b[0m \u001b[0;34m[\u001b[0m\u001b[0mconv\u001b[0m\u001b[0;34m(\u001b[0m\u001b[0mval\u001b[0m\u001b[0;34m)\u001b[0m \u001b[0;32mfor\u001b[0m \u001b[0;34m(\u001b[0m\u001b[0mconv\u001b[0m\u001b[0;34m,\u001b[0m \u001b[0mval\u001b[0m\u001b[0;34m)\u001b[0m \u001b[0;32min\u001b[0m \u001b[0mzip\u001b[0m\u001b[0;34m(\u001b[0m\u001b[0mconverters\u001b[0m\u001b[0;34m,\u001b[0m \u001b[0mvals\u001b[0m\u001b[0;34m)\u001b[0m\u001b[0;34m]\u001b[0m\u001b[0;34m\u001b[0m\u001b[0;34m\u001b[0m\u001b[0m\n\u001b[0m\u001b[1;32m   1000\u001b[0m \u001b[0;34m\u001b[0m\u001b[0m\n\u001b[1;32m   1001\u001b[0m             \u001b[0;31m# Then pack it according to the dtype's nesting\u001b[0m\u001b[0;34m\u001b[0m\u001b[0;34m\u001b[0m\u001b[0;34m\u001b[0m\u001b[0m\n",
            "\u001b[0;32m/usr/local/lib/python3.7/dist-packages/numpy/lib/npyio.py\u001b[0m in \u001b[0;36m<listcomp>\u001b[0;34m(.0)\u001b[0m\n\u001b[1;32m    997\u001b[0m \u001b[0;34m\u001b[0m\u001b[0m\n\u001b[1;32m    998\u001b[0m             \u001b[0;31m# Convert each value according to its column and store\u001b[0m\u001b[0;34m\u001b[0m\u001b[0;34m\u001b[0m\u001b[0;34m\u001b[0m\u001b[0m\n\u001b[0;32m--> 999\u001b[0;31m             \u001b[0mitems\u001b[0m \u001b[0;34m=\u001b[0m \u001b[0;34m[\u001b[0m\u001b[0mconv\u001b[0m\u001b[0;34m(\u001b[0m\u001b[0mval\u001b[0m\u001b[0;34m)\u001b[0m \u001b[0;32mfor\u001b[0m \u001b[0;34m(\u001b[0m\u001b[0mconv\u001b[0m\u001b[0;34m,\u001b[0m \u001b[0mval\u001b[0m\u001b[0;34m)\u001b[0m \u001b[0;32min\u001b[0m \u001b[0mzip\u001b[0m\u001b[0;34m(\u001b[0m\u001b[0mconverters\u001b[0m\u001b[0;34m,\u001b[0m \u001b[0mvals\u001b[0m\u001b[0;34m)\u001b[0m\u001b[0;34m]\u001b[0m\u001b[0;34m\u001b[0m\u001b[0;34m\u001b[0m\u001b[0m\n\u001b[0m\u001b[1;32m   1000\u001b[0m \u001b[0;34m\u001b[0m\u001b[0m\n\u001b[1;32m   1001\u001b[0m             \u001b[0;31m# Then pack it according to the dtype's nesting\u001b[0m\u001b[0;34m\u001b[0m\u001b[0;34m\u001b[0m\u001b[0;34m\u001b[0m\u001b[0m\n",
            "\u001b[0;32m/usr/local/lib/python3.7/dist-packages/numpy/lib/npyio.py\u001b[0m in \u001b[0;36mfloatconv\u001b[0;34m(x)\u001b[0m\n\u001b[1;32m    734\u001b[0m         \u001b[0;32mif\u001b[0m \u001b[0;34m'0x'\u001b[0m \u001b[0;32min\u001b[0m \u001b[0mx\u001b[0m\u001b[0;34m:\u001b[0m\u001b[0;34m\u001b[0m\u001b[0;34m\u001b[0m\u001b[0m\n\u001b[1;32m    735\u001b[0m             \u001b[0;32mreturn\u001b[0m \u001b[0mfloat\u001b[0m\u001b[0;34m.\u001b[0m\u001b[0mfromhex\u001b[0m\u001b[0;34m(\u001b[0m\u001b[0mx\u001b[0m\u001b[0;34m)\u001b[0m\u001b[0;34m\u001b[0m\u001b[0;34m\u001b[0m\u001b[0m\n\u001b[0;32m--> 736\u001b[0;31m         \u001b[0;32mreturn\u001b[0m \u001b[0mfloat\u001b[0m\u001b[0;34m(\u001b[0m\u001b[0mx\u001b[0m\u001b[0;34m)\u001b[0m\u001b[0;34m\u001b[0m\u001b[0;34m\u001b[0m\u001b[0m\n\u001b[0m\u001b[1;32m    737\u001b[0m \u001b[0;34m\u001b[0m\u001b[0m\n\u001b[1;32m    738\u001b[0m     \u001b[0mtyp\u001b[0m \u001b[0;34m=\u001b[0m \u001b[0mdtype\u001b[0m\u001b[0;34m.\u001b[0m\u001b[0mtype\u001b[0m\u001b[0;34m\u001b[0m\u001b[0;34m\u001b[0m\u001b[0m\n",
            "\u001b[0;31mValueError\u001b[0m: could not convert string to float: 'MERCURY'"
          ]
        }
      ]
    },
    {
      "cell_type": "code",
      "source": [
        "planets_small = np.loadtxt(\"/content/drive/My Drive/Colab Notebooks/Numpy/planets_small.txt\",\n",
        " skiprows =1,\n",
        " usecols = (1,2,3,4,5,6,7,8,9) )\n",
        "print(planets_small)\n",
        "print(planets_small.shape)"
      ],
      "metadata": {
        "colab": {
          "base_uri": "https://localhost:8080/"
        },
        "id": "5iTiklDKpbHf",
        "outputId": "8a01b0e8-4e27-49c3-bc03-04f7546b3298"
      },
      "execution_count": null,
      "outputs": [
        {
          "output_type": "stream",
          "name": "stdout",
          "text": [
            "[[3.3000e-01 4.8700e+00 5.9700e+00 6.4200e-01 1.8980e+03 5.6800e+02\n",
            "  8.6800e+01 1.0200e+02 1.4600e-02]\n",
            " [5.7900e+01 1.0820e+02 1.4960e+02 2.2790e+02 7.7860e+02 1.4335e+03\n",
            "  2.8725e+03 4.4951e+03 5.9064e+03]\n",
            " [4.2226e+03 2.8020e+03 2.4000e+01 2.4700e+01 9.9000e+00 1.0700e+01\n",
            "  1.7200e+01 1.6100e+01 1.5330e+02]]\n",
            "(3, 9)\n"
          ]
        }
      ]
    },
    {
      "cell_type": "code",
      "source": [
        "planets = np.genfromtxt(\n",
        "    \"/content/drive/My Drive/Colab Notebooks/Numpy/planets.txt\",\n",
        "    skip_header =1, \n",
        "    usecols = (1,2,3,4,5,6,7,8,9) \n",
        "                              )\n",
        "print(planets)\n",
        "print(planets.shape)"
      ],
      "metadata": {
        "colab": {
          "base_uri": "https://localhost:8080/"
        },
        "id": "LLpnMRlOrwV7",
        "outputId": "9603c2c6-7140-4f62-ea4d-dc111a4feebe"
      },
      "execution_count": null,
      "outputs": [
        {
          "output_type": "stream",
          "name": "stdout",
          "text": [
            "[[ 3.30000e-01  4.87000e+00  5.97000e+00  7.30000e-02  6.42000e-01\n",
            "   1.89800e+03  5.68000e+02  8.68000e+01  1.02000e+02]\n",
            " [ 4.87900e+03  1.21040e+04  1.27560e+04  3.47500e+03  6.79200e+03\n",
            "   1.42984e+05  1.20536e+05  5.11180e+04  4.95280e+04]\n",
            " [ 5.42700e+03  5.24300e+03  5.51400e+03  3.34000e+03  3.93300e+03\n",
            "   1.32600e+03  6.87000e+02  1.27100e+03  1.63800e+03]\n",
            " [ 3.70000e+00  8.90000e+00  9.80000e+00  1.60000e+00  3.70000e+00\n",
            "   2.31000e+01  9.00000e+00  8.70000e+00  1.10000e+01]\n",
            " [ 4.30000e+00  1.04000e+01  1.12000e+01  2.40000e+00  5.00000e+00\n",
            "   5.95000e+01  3.55000e+01  2.13000e+01  2.35000e+01]\n",
            " [ 1.40760e+03 -5.83250e+03  2.39000e+01  6.55700e+02  2.46000e+01\n",
            "   9.90000e+00  1.07000e+01 -1.72000e+01  1.61000e+01]\n",
            " [ 4.22260e+03  2.80200e+03  2.40000e+01  7.08700e+02  2.47000e+01\n",
            "   9.90000e+00  1.07000e+01  1.72000e+01  1.61000e+01]\n",
            " [ 5.79000e+01  1.08200e+02  1.49600e+02  3.84000e-01  2.27900e+02\n",
            "   7.78600e+02  1.43350e+03  2.87250e+03  4.49510e+03]\n",
            " [ 4.60000e+01  1.07500e+02  1.47100e+02  3.63000e-01  2.06600e+02\n",
            "   7.40500e+02  1.35260e+03  2.74130e+03  4.44450e+03]\n",
            " [ 6.98000e+01  1.08900e+02  1.52100e+02  4.06000e-01  2.49200e+02\n",
            "   8.16600e+02  1.51450e+03  3.00360e+03  4.54570e+03]\n",
            " [ 8.80000e+01  2.24700e+02  3.65200e+02  2.73000e+01  6.87000e+02\n",
            "   4.33100e+03  1.07470e+04  3.05890e+04  5.98000e+04]\n",
            " [ 4.74000e+01  3.50000e+01  2.98000e+01  1.00000e+00  2.41000e+01\n",
            "   1.31000e+01  9.70000e+00  6.80000e+00  5.40000e+00]\n",
            " [ 7.00000e+00  3.40000e+00  0.00000e+00  5.10000e+00  1.90000e+00\n",
            "   1.30000e+00  2.50000e+00  8.00000e-01  1.80000e+00]\n",
            " [ 2.05000e-01  7.00000e-03  1.70000e-02  5.50000e-02  9.40000e-02\n",
            "   4.90000e-02  5.70000e-02  4.60000e-02  1.10000e-02]\n",
            " [ 3.40000e-02  1.77400e+02  2.34000e+01  6.70000e+00  2.52000e+01\n",
            "   3.10000e+00  2.67000e+01  9.78000e+01  2.83000e+01]\n",
            " [ 1.67000e+02  4.64000e+02  1.50000e+01 -2.00000e+01 -6.50000e+01\n",
            "  -1.10000e+02 -1.40000e+02 -1.95000e+02 -2.00000e+02]\n",
            " [ 0.00000e+00  9.20000e+01  1.00000e+00  0.00000e+00  1.00000e-02\n",
            "           nan          nan          nan          nan]\n",
            " [ 0.00000e+00  0.00000e+00  1.00000e+00  0.00000e+00  2.00000e+00\n",
            "   7.90000e+01  8.20000e+01  2.70000e+01  1.40000e+01]\n",
            " [ 0.00000e+00  0.00000e+00  0.00000e+00  0.00000e+00  0.00000e+00\n",
            "   1.00000e+00  1.00000e+00  1.00000e+00  1.00000e+00]\n",
            " [ 1.00000e+00  0.00000e+00  1.00000e+00  0.00000e+00  0.00000e+00\n",
            "   1.00000e+00  1.00000e+00  1.00000e+00  1.00000e+00]]\n",
            "(20, 9)\n"
          ]
        }
      ]
    },
    {
      "cell_type": "code",
      "source": [
        "np.isnan(planets)"
      ],
      "metadata": {
        "colab": {
          "base_uri": "https://localhost:8080/"
        },
        "id": "3X6HA3YltMC3",
        "outputId": "3f40bca5-ab93-4cac-d211-1b76b0c66457"
      },
      "execution_count": null,
      "outputs": [
        {
          "output_type": "execute_result",
          "data": {
            "text/plain": [
              "array([[False, False, False, False, False, False, False, False, False],\n",
              "       [False, False, False, False, False, False, False, False, False],\n",
              "       [False, False, False, False, False, False, False, False, False],\n",
              "       [False, False, False, False, False, False, False, False, False],\n",
              "       [False, False, False, False, False, False, False, False, False],\n",
              "       [False, False, False, False, False, False, False, False, False],\n",
              "       [False, False, False, False, False, False, False, False, False],\n",
              "       [False, False, False, False, False, False, False, False, False],\n",
              "       [False, False, False, False, False, False, False, False, False],\n",
              "       [False, False, False, False, False, False, False, False, False],\n",
              "       [False, False, False, False, False, False, False, False, False],\n",
              "       [False, False, False, False, False, False, False, False, False],\n",
              "       [False, False, False, False, False, False, False, False, False],\n",
              "       [False, False, False, False, False, False, False, False, False],\n",
              "       [False, False, False, False, False, False, False, False, False],\n",
              "       [False, False, False, False, False, False, False, False, False],\n",
              "       [False, False, False, False, False,  True,  True,  True,  True],\n",
              "       [False, False, False, False, False, False, False, False, False],\n",
              "       [False, False, False, False, False, False, False, False, False],\n",
              "       [False, False, False, False, False, False, False, False, False]])"
            ]
          },
          "metadata": {},
          "execution_count": 71
        }
      ]
    },
    {
      "cell_type": "code",
      "source": [
        "planets_new  = np.nan_to_num(planets, nan=-1 )\n",
        "print(planets_new)"
      ],
      "metadata": {
        "colab": {
          "base_uri": "https://localhost:8080/"
        },
        "id": "JJ66tWuj5Utw",
        "outputId": "775df5cc-49c3-41d8-8ec2-ff952c573311"
      },
      "execution_count": null,
      "outputs": [
        {
          "output_type": "stream",
          "name": "stdout",
          "text": [
            "[[ 3.30000e-01  4.87000e+00  5.97000e+00  7.30000e-02  6.42000e-01\n",
            "   1.89800e+03  5.68000e+02  8.68000e+01  1.02000e+02]\n",
            " [ 4.87900e+03  1.21040e+04  1.27560e+04  3.47500e+03  6.79200e+03\n",
            "   1.42984e+05  1.20536e+05  5.11180e+04  4.95280e+04]\n",
            " [ 5.42700e+03  5.24300e+03  5.51400e+03  3.34000e+03  3.93300e+03\n",
            "   1.32600e+03  6.87000e+02  1.27100e+03  1.63800e+03]\n",
            " [ 3.70000e+00  8.90000e+00  9.80000e+00  1.60000e+00  3.70000e+00\n",
            "   2.31000e+01  9.00000e+00  8.70000e+00  1.10000e+01]\n",
            " [ 4.30000e+00  1.04000e+01  1.12000e+01  2.40000e+00  5.00000e+00\n",
            "   5.95000e+01  3.55000e+01  2.13000e+01  2.35000e+01]\n",
            " [ 1.40760e+03 -5.83250e+03  2.39000e+01  6.55700e+02  2.46000e+01\n",
            "   9.90000e+00  1.07000e+01 -1.72000e+01  1.61000e+01]\n",
            " [ 4.22260e+03  2.80200e+03  2.40000e+01  7.08700e+02  2.47000e+01\n",
            "   9.90000e+00  1.07000e+01  1.72000e+01  1.61000e+01]\n",
            " [ 5.79000e+01  1.08200e+02  1.49600e+02  3.84000e-01  2.27900e+02\n",
            "   7.78600e+02  1.43350e+03  2.87250e+03  4.49510e+03]\n",
            " [ 4.60000e+01  1.07500e+02  1.47100e+02  3.63000e-01  2.06600e+02\n",
            "   7.40500e+02  1.35260e+03  2.74130e+03  4.44450e+03]\n",
            " [ 6.98000e+01  1.08900e+02  1.52100e+02  4.06000e-01  2.49200e+02\n",
            "   8.16600e+02  1.51450e+03  3.00360e+03  4.54570e+03]\n",
            " [ 8.80000e+01  2.24700e+02  3.65200e+02  2.73000e+01  6.87000e+02\n",
            "   4.33100e+03  1.07470e+04  3.05890e+04  5.98000e+04]\n",
            " [ 4.74000e+01  3.50000e+01  2.98000e+01  1.00000e+00  2.41000e+01\n",
            "   1.31000e+01  9.70000e+00  6.80000e+00  5.40000e+00]\n",
            " [ 7.00000e+00  3.40000e+00  0.00000e+00  5.10000e+00  1.90000e+00\n",
            "   1.30000e+00  2.50000e+00  8.00000e-01  1.80000e+00]\n",
            " [ 2.05000e-01  7.00000e-03  1.70000e-02  5.50000e-02  9.40000e-02\n",
            "   4.90000e-02  5.70000e-02  4.60000e-02  1.10000e-02]\n",
            " [ 3.40000e-02  1.77400e+02  2.34000e+01  6.70000e+00  2.52000e+01\n",
            "   3.10000e+00  2.67000e+01  9.78000e+01  2.83000e+01]\n",
            " [ 1.67000e+02  4.64000e+02  1.50000e+01 -2.00000e+01 -6.50000e+01\n",
            "  -1.10000e+02 -1.40000e+02 -1.95000e+02 -2.00000e+02]\n",
            " [ 0.00000e+00  9.20000e+01  1.00000e+00  0.00000e+00  1.00000e-02\n",
            "  -1.00000e+00 -1.00000e+00 -1.00000e+00 -1.00000e+00]\n",
            " [ 0.00000e+00  0.00000e+00  1.00000e+00  0.00000e+00  2.00000e+00\n",
            "   7.90000e+01  8.20000e+01  2.70000e+01  1.40000e+01]\n",
            " [ 0.00000e+00  0.00000e+00  0.00000e+00  0.00000e+00  0.00000e+00\n",
            "   1.00000e+00  1.00000e+00  1.00000e+00  1.00000e+00]\n",
            " [ 1.00000e+00  0.00000e+00  1.00000e+00  0.00000e+00  0.00000e+00\n",
            "   1.00000e+00  1.00000e+00  1.00000e+00  1.00000e+00]]\n"
          ]
        }
      ]
    },
    {
      "cell_type": "markdown",
      "source": [
        "saving the data back"
      ],
      "metadata": {
        "id": "Sp7OZtUk5xlr"
      }
    },
    {
      "cell_type": "code",
      "source": [
        "np.savetxt(\n",
        "    \"/content/drive/My Drive/Colab Notebooks/Numpy/planets_new.txt\",\n",
        "    planets_new,\n",
        "    delimiter = \",\"\n",
        "                              )"
      ],
      "metadata": {
        "id": "58TihmXV50Al"
      },
      "execution_count": null,
      "outputs": []
    },
    {
      "cell_type": "markdown",
      "source": [
        "# To save as binary file so that the read and write are fast\n",
        "\n",
        "No extension and also no delimiter"
      ],
      "metadata": {
        "id": "WxHVm4BU6hcT"
      }
    },
    {
      "cell_type": "code",
      "source": [
        "np.save(\n",
        "    \"/content/drive/My Drive/Colab Notebooks/Numpy/planets_numpy_File\",\n",
        "    planets_new)"
      ],
      "metadata": {
        "id": "jdNY6kN36pZB"
      },
      "execution_count": null,
      "outputs": []
    },
    {
      "cell_type": "code",
      "source": [
        "!ls -lh\n"
      ],
      "metadata": {
        "colab": {
          "base_uri": "https://localhost:8080/"
        },
        "id": "Zz07N9Cy7yZe",
        "outputId": "213dd5e0-aabd-4991-8df3-3a481720a7f5"
      },
      "execution_count": null,
      "outputs": [
        {
          "output_type": "stream",
          "name": "stdout",
          "text": [
            "total 8.0K\n",
            "drwx------ 5 root root 4.0K Oct  2 12:17 drive\n",
            "drwxr-xr-x 1 root root 4.0K Sep 26 13:45 sample_data\n"
          ]
        }
      ]
    },
    {
      "cell_type": "code",
      "source": [
        "arrf1 = np.random.rand(1000, 10)\n",
        "arrf2 = np.random.rand(2000, 5)\n",
        "arrf3 = np.random.rand(10, 10000)\n",
        "np.savez(\"/content/drive/My Drive/Colab Notebooks/Numpy/many_files\",\n",
        "         arrf1,arrf2,arrf3)"
      ],
      "metadata": {
        "id": "qJhJclDx86mZ"
      },
      "execution_count": null,
      "outputs": []
    },
    {
      "cell_type": "code",
      "source": [
        "arrs=np.load(\n",
        "  \"/content/drive/My Drive/Colab Notebooks/Numpy/many_files.npz\"\n",
        ")\n",
        "\n",
        "arrs.files  # get the files\n",
        "\n",
        "arrs[\"arr_0\"]  #print just one file"
      ],
      "metadata": {
        "colab": {
          "base_uri": "https://localhost:8080/"
        },
        "id": "1W9cl_7HBsNG",
        "outputId": "dfd73799-772f-426e-b86a-c2ee4359cc41"
      },
      "execution_count": null,
      "outputs": [
        {
          "output_type": "execute_result",
          "data": {
            "text/plain": [
              "array([[0.30995393, 0.95100393, 0.39448441, ..., 0.41796277, 0.35132871,\n",
              "        0.17324549],\n",
              "       [0.72898005, 0.91882492, 0.75787393, ..., 0.20481267, 0.48282973,\n",
              "        0.96301701],\n",
              "       [0.63662371, 0.04193139, 0.63077853, ..., 0.90470819, 0.0797945 ,\n",
              "        0.39671762],\n",
              "       ...,\n",
              "       [0.9277067 , 0.99261307, 0.57069027, ..., 0.51386695, 0.93152637,\n",
              "        0.29293758],\n",
              "       [0.48299345, 0.88399119, 0.21092462, ..., 0.23232852, 0.11704555,\n",
              "        0.8680223 ],\n",
              "       [0.81068364, 0.77605621, 0.96151385, ..., 0.85581209, 0.99281605,\n",
              "        0.13030047]])"
            ]
          },
          "metadata": {},
          "execution_count": 110
        }
      ]
    },
    {
      "cell_type": "code",
      "source": [
        "np.savez_compressed(\"/content/drive/My Drive/Colab Notebooks/Numpy/many_files_compressed\",\n",
        "         arrf1,arrf2,arrf3)"
      ],
      "metadata": {
        "id": "U_BPzrmgCfAw"
      },
      "execution_count": null,
      "outputs": []
    },
    {
      "cell_type": "markdown",
      "source": [
        "# Load arrays from native numpy format file"
      ],
      "metadata": {
        "id": "OYT5sRxe_YNw"
      }
    },
    {
      "cell_type": "code",
      "source": [
        "from_numpy_fmt = np.load(\n",
        "\"/content/drive/My Drive/Colab Notebooks/Numpy/planets_numpy_File.npy\"\n",
        "                        )\n",
        "print(from_numpy_fmt)\n"
      ],
      "metadata": {
        "colab": {
          "base_uri": "https://localhost:8080/"
        },
        "id": "5TX3C8w2_f9R",
        "outputId": "cf4f70c4-a1fc-43ee-9c0e-a15c89d12230"
      },
      "execution_count": null,
      "outputs": [
        {
          "output_type": "stream",
          "name": "stdout",
          "text": [
            "[[ 3.30000e-01  4.87000e+00  5.97000e+00  7.30000e-02  6.42000e-01\n",
            "   1.89800e+03  5.68000e+02  8.68000e+01  1.02000e+02]\n",
            " [ 4.87900e+03  1.21040e+04  1.27560e+04  3.47500e+03  6.79200e+03\n",
            "   1.42984e+05  1.20536e+05  5.11180e+04  4.95280e+04]\n",
            " [ 5.42700e+03  5.24300e+03  5.51400e+03  3.34000e+03  3.93300e+03\n",
            "   1.32600e+03  6.87000e+02  1.27100e+03  1.63800e+03]\n",
            " [ 3.70000e+00  8.90000e+00  9.80000e+00  1.60000e+00  3.70000e+00\n",
            "   2.31000e+01  9.00000e+00  8.70000e+00  1.10000e+01]\n",
            " [ 4.30000e+00  1.04000e+01  1.12000e+01  2.40000e+00  5.00000e+00\n",
            "   5.95000e+01  3.55000e+01  2.13000e+01  2.35000e+01]\n",
            " [ 1.40760e+03 -5.83250e+03  2.39000e+01  6.55700e+02  2.46000e+01\n",
            "   9.90000e+00  1.07000e+01 -1.72000e+01  1.61000e+01]\n",
            " [ 4.22260e+03  2.80200e+03  2.40000e+01  7.08700e+02  2.47000e+01\n",
            "   9.90000e+00  1.07000e+01  1.72000e+01  1.61000e+01]\n",
            " [ 5.79000e+01  1.08200e+02  1.49600e+02  3.84000e-01  2.27900e+02\n",
            "   7.78600e+02  1.43350e+03  2.87250e+03  4.49510e+03]\n",
            " [ 4.60000e+01  1.07500e+02  1.47100e+02  3.63000e-01  2.06600e+02\n",
            "   7.40500e+02  1.35260e+03  2.74130e+03  4.44450e+03]\n",
            " [ 6.98000e+01  1.08900e+02  1.52100e+02  4.06000e-01  2.49200e+02\n",
            "   8.16600e+02  1.51450e+03  3.00360e+03  4.54570e+03]\n",
            " [ 8.80000e+01  2.24700e+02  3.65200e+02  2.73000e+01  6.87000e+02\n",
            "   4.33100e+03  1.07470e+04  3.05890e+04  5.98000e+04]\n",
            " [ 4.74000e+01  3.50000e+01  2.98000e+01  1.00000e+00  2.41000e+01\n",
            "   1.31000e+01  9.70000e+00  6.80000e+00  5.40000e+00]\n",
            " [ 7.00000e+00  3.40000e+00  0.00000e+00  5.10000e+00  1.90000e+00\n",
            "   1.30000e+00  2.50000e+00  8.00000e-01  1.80000e+00]\n",
            " [ 2.05000e-01  7.00000e-03  1.70000e-02  5.50000e-02  9.40000e-02\n",
            "   4.90000e-02  5.70000e-02  4.60000e-02  1.10000e-02]\n",
            " [ 3.40000e-02  1.77400e+02  2.34000e+01  6.70000e+00  2.52000e+01\n",
            "   3.10000e+00  2.67000e+01  9.78000e+01  2.83000e+01]\n",
            " [ 1.67000e+02  4.64000e+02  1.50000e+01 -2.00000e+01 -6.50000e+01\n",
            "  -1.10000e+02 -1.40000e+02 -1.95000e+02 -2.00000e+02]\n",
            " [ 0.00000e+00  9.20000e+01  1.00000e+00  0.00000e+00  1.00000e-02\n",
            "  -1.00000e+00 -1.00000e+00 -1.00000e+00 -1.00000e+00]\n",
            " [ 0.00000e+00  0.00000e+00  1.00000e+00  0.00000e+00  2.00000e+00\n",
            "   7.90000e+01  8.20000e+01  2.70000e+01  1.40000e+01]\n",
            " [ 0.00000e+00  0.00000e+00  0.00000e+00  0.00000e+00  0.00000e+00\n",
            "   1.00000e+00  1.00000e+00  1.00000e+00  1.00000e+00]\n",
            " [ 1.00000e+00  0.00000e+00  1.00000e+00  0.00000e+00  0.00000e+00\n",
            "   1.00000e+00  1.00000e+00  1.00000e+00  1.00000e+00]]\n"
          ]
        }
      ]
    },
    {
      "cell_type": "markdown",
      "source": [
        "# Stats with numpy"
      ],
      "metadata": {
        "id": "IJofY0M3dv7s"
      }
    },
    {
      "cell_type": "code",
      "source": [
        "arrst= np.random.rand(100000,)\n",
        "print(np.amin(arrst))\n",
        "print(np.amax(arrst))\n",
        "print(\"Mean = \", np.mean(arrst))\n",
        "print(\"Median = \", np.median(arrst))\n",
        "print(\"Varience = \", np.var(arrst))\n",
        "print(\"Standard Deveation = \", np.std(arrst))\n",
        "print(\"25 Percentile = \", np.percentile(arrst, 25))\n",
        "print(\"25 Percentile = \", np.percentile(arrst, 75))\n",
        "print(\"Inter Quartile Percentile = \", np.percentile(arrst, 75) - np.percentile(arrst, 25))\n",
        "\n",
        "quartiles=np.percentile(arrst, [25,75])\n",
        "print(\"Inter Quartile Percentile = \", quartiles[1]-quartiles[0])\n",
        "#instead of calling np. many times -- above two lines\n",
        "\n",
        "print(\"Z Score -How far particular point is from Mean = \\n\",\n",
        "      arrst - np.mean(arrst)/np.std(arrst)\n",
        "      )\n"
      ],
      "metadata": {
        "colab": {
          "base_uri": "https://localhost:8080/"
        },
        "id": "OIxD32ZkdzTe",
        "outputId": "35ae3905-15e7-42af-f6c5-bbdd50afa37d"
      },
      "execution_count": null,
      "outputs": [
        {
          "output_type": "stream",
          "name": "stdout",
          "text": [
            "1.778806587160453e-05\n",
            "0.9999919070499059\n",
            "Mean =  0.49897219592599334\n",
            "Median =  0.4984176199154281\n",
            "Varience =  0.083446431733198\n",
            "Standard Deveation =  0.28887096034942317\n",
            "25 Percentile =  0.24830921183985133\n",
            "25 Percentile =  0.7486664442963318\n",
            "Inter Quartile Percentile =  0.5003572324564804\n",
            "Inter Quartile Percentile =  0.5003572324564804\n",
            "Z Score -How far particular point is from Mean = \n",
            " [-1.20396951 -0.97358098 -1.28210918 ... -0.87802972 -1.0486598\n",
            " -1.6271281 ]\n"
          ]
        }
      ]
    },
    {
      "cell_type": "markdown",
      "source": [
        "# Histogram"
      ],
      "metadata": {
        "id": "cmwmEJg1itGo"
      }
    },
    {
      "cell_type": "code",
      "source": [
        "np.histogram(arrst)\n",
        "#returns 2 array: 2nd array gives the BINS for histogram\n",
        "# array 1 gives the points in the range"
      ],
      "metadata": {
        "colab": {
          "base_uri": "https://localhost:8080/"
        },
        "id": "ZQtOiCEMiNA5",
        "outputId": "89295f13-91d9-4911-b65e-3d88d754d51f"
      },
      "execution_count": null,
      "outputs": [
        {
          "output_type": "execute_result",
          "data": {
            "text/plain": [
              "(array([10076, 10066, 10082,  9875, 10055, 10039,  9937,  9956,  9926,\n",
              "         9988]),\n",
              " array([1.77880659e-05, 1.00015200e-01, 2.00012612e-01, 3.00010024e-01,\n",
              "        4.00007436e-01, 5.00004848e-01, 6.00002259e-01, 6.99999671e-01,\n",
              "        7.99997083e-01, 8.99994495e-01, 9.99991907e-01]))"
            ]
          },
          "metadata": {},
          "execution_count": 124
        }
      ]
    },
    {
      "cell_type": "code",
      "source": [
        "np.histogram(arrst, bins=5)"
      ],
      "metadata": {
        "colab": {
          "base_uri": "https://localhost:8080/"
        },
        "id": "svdGPOT1iwqe",
        "outputId": "05580884-a0b7-40ac-ae99-39ab05b8c7ef"
      },
      "execution_count": null,
      "outputs": [
        {
          "output_type": "execute_result",
          "data": {
            "text/plain": [
              "(array([20142, 19957, 20094, 19893, 19914]),\n",
              " array([1.77880659e-05, 2.00012612e-01, 4.00007436e-01, 6.00002259e-01,\n",
              "        7.99997083e-01, 9.99991907e-01]))"
            ]
          },
          "metadata": {},
          "execution_count": 125
        }
      ]
    },
    {
      "cell_type": "code",
      "source": [
        "np.histogram(arrst, bins=[0, .25, .5, .75, 1])"
      ],
      "metadata": {
        "colab": {
          "base_uri": "https://localhost:8080/"
        },
        "id": "KCrU4JBKi5b-",
        "outputId": "50758ff4-0136-4fc9-d214-84c1f81ccecd"
      },
      "execution_count": null,
      "outputs": [
        {
          "output_type": "execute_result",
          "data": {
            "text/plain": [
              "(array([25181, 24971, 24983, 24865]), array([0.  , 0.25, 0.5 , 0.75, 1.  ]))"
            ]
          },
          "metadata": {},
          "execution_count": 127
        }
      ]
    },
    {
      "cell_type": "markdown",
      "source": [
        "points to bin number"
      ],
      "metadata": {
        "id": "svuQXhvjjOvq"
      }
    },
    {
      "cell_type": "code",
      "source": [
        "np.histogram(arrst, bins=[0, .25, .5, .75, 1])\n",
        "np.digitize(arrst, bins=[0, .25, .5, .75, 1])"
      ],
      "metadata": {
        "colab": {
          "base_uri": "https://localhost:8080/"
        },
        "id": "vPnlwZ_wjdPt",
        "outputId": "9a4386fa-81c9-4606-f106-c40e45b97731"
      },
      "execution_count": null,
      "outputs": [
        {
          "output_type": "execute_result",
          "data": {
            "text/plain": [
              "array([3, 4, 2, ..., 4, 3, 1])"
            ]
          },
          "metadata": {},
          "execution_count": 129
        }
      ]
    },
    {
      "cell_type": "markdown",
      "source": [
        "will tell in which bins the data point is "
      ],
      "metadata": {
        "id": "QYMeW8r5kTal"
      }
    },
    {
      "cell_type": "code",
      "source": [
        "arrint = np.random.randint(0,10, (10))\n",
        "print(arrint)\n",
        "bins=[0,4,8,10]\n",
        "np.digitize(arrint, bins)  # right=True will add the right number"
      ],
      "metadata": {
        "colab": {
          "base_uri": "https://localhost:8080/"
        },
        "id": "PNKFgykpkYPJ",
        "outputId": "46008795-c5ca-4bb1-8fbd-e92d939e1131"
      },
      "execution_count": null,
      "outputs": [
        {
          "output_type": "stream",
          "name": "stdout",
          "text": [
            "[7 6 7 1 3 5 1 8 1 2]\n"
          ]
        },
        {
          "output_type": "execute_result",
          "data": {
            "text/plain": [
              "array([2, 2, 2, 1, 1, 2, 1, 3, 1, 1])"
            ]
          },
          "metadata": {},
          "execution_count": 133
        }
      ]
    },
    {
      "cell_type": "markdown",
      "source": [
        "# MultiDimension Array  \n",
        "\n",
        "Also work with randn - which will give you nomalized array"
      ],
      "metadata": {
        "id": "M5Mh_09bmsk8"
      }
    },
    {
      "cell_type": "code",
      "source": [
        "weight = np.random.randint(50,80,100)\n",
        "height = np.random.randint(150,185,100)\n",
        "age    = np.random.randint(17,22,100) # bring them togeater\n",
        "#np.concatenate((weight, height, age)).shape # We need 3 columns with 100 rows \n",
        "#the above fn prints 300 data, .e one after the other\n",
        "combArr = np.vstack((weight, height, age))\n",
        "print(\"Shape  = \", np.vstack((weight, height, age)).shape)\n",
        "print(\"Minimum in each Cols\", np.amin(combArr, axis =1))\n",
        "print(\"Max in each Cols\", np.amax(combArr, axis =1))\n",
        "\n",
        "print(\"Mean = \", np.mean(combArr, axis=1))\n",
        "print(\"Median = \", np.median(combArr, axis=1))\n",
        "print(\"Varience = \", np.var(combArr, axis=1))\n",
        "print(\"Standard Deveation = \", np.std(combArr, axis=1))\n",
        "print(\"25 Percentile = \", np.percentile(combArr,  25, axis=1))\n",
        "print(\"25 Percentile = \", np.percentile(combArr,  75, axis=1))\n",
        "print(\"Inter Quartile Percentile = \", \n",
        "      np.percentile(combArr,  75, axis=1) - \n",
        "      np.percentile(combArr,  25, axis=1))\n",
        "\n",
        "quartiles=np.percentile(combArr, [25,75], axis=1)\n",
        "print(\"Inter Quartile Percentile = \", quartiles[1]-quartiles[0])"
      ],
      "metadata": {
        "colab": {
          "base_uri": "https://localhost:8080/"
        },
        "id": "GA2-S42rmwNo",
        "outputId": "211e03f1-9743-4990-f416-ba98cb9bca00"
      },
      "execution_count": null,
      "outputs": [
        {
          "output_type": "stream",
          "name": "stdout",
          "text": [
            "Shape  =  (3, 100)\n",
            "Minimum in each Cols [ 50 150  17]\n",
            "Max in each Cols [ 79 184  21]\n",
            "Mean =  [ 64.47 167.83  18.9 ]\n",
            "Median =  [ 64. 169.  19.]\n",
            "Varience =  [ 75.0091 113.9611   1.73  ]\n",
            "Standard Deveation =  [ 8.66077941 10.67525644  1.31529464]\n",
            "25 Percentile =  [ 57.75 158.    18.  ]\n",
            "25 Percentile =  [ 72.   177.25  20.  ]\n",
            "Inter Quartile Percentile =  [14.25 19.25  2.  ]\n",
            "Inter Quartile Percentile =  [14.25 19.25  2.  ]\n"
          ]
        }
      ]
    },
    {
      "cell_type": "code",
      "source": [
        "arrint = np.random.randint(0,10, (10))\n",
        "\n",
        "print(np.cumsum(arrint))\n",
        "print(\"Means of No.s =\", np.cumsum(arrint)/np.arange(1,11))"
      ],
      "metadata": {
        "colab": {
          "base_uri": "https://localhost:8080/"
        },
        "id": "XJTRoredseAF",
        "outputId": "a07cd542-9a68-46b9-caf1-37ac39802990"
      },
      "execution_count": null,
      "outputs": [
        {
          "output_type": "stream",
          "name": "stdout",
          "text": [
            "[ 6 12 18 27 29 36 40 47 48 48]\n",
            "Means of No.s = [6.         6.         6.         6.75       5.8        6.\n",
            " 5.71428571 5.875      5.33333333 4.8       ]\n"
          ]
        }
      ]
    },
    {
      "cell_type": "markdown",
      "source": [],
      "metadata": {
        "id": "Phf4Y-q1sSh_"
      }
    },
    {
      "cell_type": "markdown",
      "source": [
        "# Checking Stats rules with numpy  \n",
        "\n",
        "Mean subracted array has zero mean"
      ],
      "metadata": {
        "id": "OmoaY5qnVkKh"
      }
    },
    {
      "cell_type": "code",
      "source": [
        "arr = np.random.rand(1000)\n",
        "mean = np.mean(arr)\n",
        "print(mean)\n",
        "arr1= arr-mean\n",
        "np.mean(arr1) # Should be Zero"
      ],
      "metadata": {
        "colab": {
          "base_uri": "https://localhost:8080/"
        },
        "id": "ykd4MONpVpoC",
        "outputId": "21b90020-1265-47e5-b4a4-b6f5077f08db"
      },
      "execution_count": null,
      "outputs": [
        {
          "output_type": "stream",
          "name": "stdout",
          "text": [
            "0.4987605077007912\n"
          ]
        },
        {
          "output_type": "execute_result",
          "data": {
            "text/plain": [
              "1.909583602355269e-17"
            ]
          },
          "metadata": {},
          "execution_count": 4
        }
      ]
    },
    {
      "cell_type": "markdown",
      "source": [
        "# computing mean with small values"
      ],
      "metadata": {
        "id": "e50ohsyPXIeo"
      }
    },
    {
      "cell_type": "code",
      "source": [
        "arrm= np.random.rand(1000)\n",
        "for k in range(1,100):\n",
        "  arrm1=arr[0:k]\n",
        "  print(k ,\"mean = \", np.mean(arrm1))"
      ],
      "metadata": {
        "id": "XzUmpYZ0XNmj"
      },
      "execution_count": null,
      "outputs": []
    },
    {
      "cell_type": "code",
      "source": [
        "np.where?"
      ],
      "metadata": {
        "id": "ihB7EGx9ZvM3"
      },
      "execution_count": null,
      "outputs": []
    },
    {
      "cell_type": "code",
      "source": [
        "import numpy as np \n",
        "a = np.arange(10) \n",
        "b = np.where(a % 2 == 1, 1, a) \n",
        "print(b) "
      ],
      "metadata": {
        "colab": {
          "base_uri": "https://localhost:8080/"
        },
        "id": "oXONIZNlXPQE",
        "outputId": "0d955673-f511-4984-e38d-ed60b7cd8af9"
      },
      "execution_count": null,
      "outputs": [
        {
          "output_type": "stream",
          "name": "stdout",
          "text": [
            "[0 1 2 1 4 1 6 1 8 1]\n"
          ]
        }
      ]
    },
    {
      "cell_type": "code",
      "source": [
        "arrh= np.random.rand(300)\n",
        "np.cumsum(arrh) / np.arange(1,301)"
      ],
      "metadata": {
        "id": "UDw1cjPBZ4tv"
      },
      "execution_count": null,
      "outputs": []
    },
    {
      "cell_type": "markdown",
      "source": [
        "Effect of outliers on mean and median"
      ],
      "metadata": {
        "id": "hMIJ0zsNa0aN"
      }
    },
    {
      "cell_type": "code",
      "source": [
        "arro = np.random.randint(1,100,100)\n",
        "print(\"Mean  =\" , np.mean(arro))\n",
        "print(\"Median \" ,np.median(arro))\n",
        "# add outliers\n",
        "arro=np.append(arro, [2,3, 2000, 1000])\n",
        "print(\"Mean  =\" , np.mean(arro))\n",
        "print(\"Median \" ,np.median(arro))"
      ],
      "metadata": {
        "colab": {
          "base_uri": "https://localhost:8080/"
        },
        "id": "uwd9NF86a5RO",
        "outputId": "e1833c6f-3f67-4505-f6ca-9990697c6ac7"
      },
      "execution_count": null,
      "outputs": [
        {
          "output_type": "stream",
          "name": "stdout",
          "text": [
            "Mean  = 50.2\n",
            "Median  51.0\n",
            "Mean  = 77.16346153846153\n",
            "Median  51.0\n"
          ]
        }
      ]
    },
    {
      "cell_type": "markdown",
      "source": [
        "Effect of scaling arrays on mean and median"
      ],
      "metadata": {
        "id": "paX5crZrcFve"
      }
    },
    {
      "cell_type": "code",
      "source": [
        "arrs = np.random.randint(1,100,100)\n",
        "print(\"Mean  =\" , np.mean(arrs))\n",
        "print(\"Median \" ,np.median(arrs))\n",
        "\n",
        "print(\"Mean  =\" , np.mean(2.5 * arrs + 0.50))\n",
        "print(\"Mean  =\" , 2.5*np.mean(arrs)+ 0.50)\n",
        "print(\"Median \" , np.median(2.5 * arrs + 0.50))\n",
        "print(\"Median \" , 2.5*np.median(arrs)+ 0.50)\n",
        "\n",
        "# Varience -- shift will not affect varience\n",
        "print(np.var(2.5 * arrs +0.5), 2.5*2.5*np.var(arrs))\n",
        "# Standard Deviation - shift Will not affect std\n",
        "print(np.std(2.5 * arrs +0.5), 2.5*np.std(arrs))"
      ],
      "metadata": {
        "colab": {
          "base_uri": "https://localhost:8080/"
        },
        "id": "M_HqfioAckjK",
        "outputId": "59e51cf0-0c44-466d-a2c9-49bc3c627b4f"
      },
      "execution_count": null,
      "outputs": [
        {
          "output_type": "stream",
          "name": "stdout",
          "text": [
            "Mean  = 52.34\n",
            "Median  52.0\n",
            "Mean  = 131.35\n",
            "Mean  = 131.35000000000002\n",
            "Median  130.5\n",
            "Median  130.5\n",
            "4335.027499999999 4335.027499999999\n",
            "65.84092572253218 65.84092572253218\n"
          ]
        }
      ]
    },
    {
      "cell_type": "code",
      "source": [
        " import numpy as np \n",
        " a = np.array([1,2,3,4]) \n",
        " a[0] =0.9 \n",
        " print(a[0], a.dtype) "
      ],
      "metadata": {
        "colab": {
          "base_uri": "https://localhost:8080/"
        },
        "id": "TVRw9LjahIeI",
        "outputId": "5ae0d53d-0819-44e1-fa5e-6c084dc9ea8c"
      },
      "execution_count": null,
      "outputs": [
        {
          "output_type": "stream",
          "name": "stdout",
          "text": [
            "0 int64\n"
          ]
        }
      ]
    },
    {
      "cell_type": "markdown",
      "source": [
        "Find Mean, Median, Mode, IQR for Sachin, Rahul and India"
      ],
      "metadata": {
        "id": "gCnYQePv_IiO"
      }
    },
    {
      "cell_type": "code",
      "source": [
        "#!head  #unix command to view text file\n",
        "valArr = np.loadtxt(\n",
        "    \"/content/drive/My Drive/Colab Notebooks/Numpy/cric_data.tsv\",\n",
        "    skiprows =1 )\n",
        "#print(valArr)\n",
        "\n",
        "valArr = valArr[   : ,[1,2,3]]\n",
        "sachin = valArr[   :  ,0]\n",
        "rahul = valArr[   :  ,1]\n",
        "India = valArr[   :  ,2]\n",
        "#print(sachin)\n",
        "\n",
        "def stats(name,cols):\n",
        "  print(name, \"Statistics\")\n",
        "  print(\"Mean\", np.mean(cols))\n",
        "  print(\"median\", np.median(cols))\n",
        "  print(\"Iqr\", np.percentile(cols, 75)-\n",
        "        np.percentile(cols, 25))\n",
        "\n",
        "stats(\"Sachin\", sachin)\n",
        "stats(\"Rahul\", rahul)\n",
        "stats(\"India\", India)"
      ],
      "metadata": {
        "colab": {
          "base_uri": "https://localhost:8080/"
        },
        "id": "wdGpmLz1ql3M",
        "outputId": "3bb3d0cc-a22f-487d-a290-451df75e983e"
      },
      "execution_count": null,
      "outputs": [
        {
          "output_type": "stream",
          "name": "stdout",
          "text": [
            "Sachin Statistics\n",
            "Mean 39.87555555555556\n",
            "median 27.0\n",
            "Iqr 57.0\n",
            "Rahul Statistics\n",
            "Mean 32.062222222222225\n",
            "median 22.0\n",
            "Iqr 46.0\n",
            "India Statistics\n",
            "Mean 220.79555555555555\n",
            "median 216.0\n",
            "Iqr 98.0\n"
          ]
        }
      ]
    },
    {
      "cell_type": "markdown",
      "source": [
        "# Other way of doing this"
      ],
      "metadata": {
        "id": "rRDAY__BALrc"
      }
    },
    {
      "cell_type": "code",
      "source": [
        "means= np.mean(valArr, axis = 0)\n",
        "means[0]\n",
        "percent = np.percentile(valArr, 75, axis =0)\n",
        "percent"
      ],
      "metadata": {
        "colab": {
          "base_uri": "https://localhost:8080/"
        },
        "id": "V4fX6CYBAOtk",
        "outputId": "a1c04820-08a5-4d09-fc44-64cda6eda1df"
      },
      "execution_count": null,
      "outputs": [
        {
          "output_type": "execute_result",
          "data": {
            "text/plain": [
              "array([ 63.,  53., 273.])"
            ]
          },
          "metadata": {},
          "execution_count": 128
        }
      ]
    },
    {
      "cell_type": "markdown",
      "source": [
        "# Histogram of Sachin with 10 bins"
      ],
      "metadata": {
        "id": "8rbagou9P9Ii"
      }
    },
    {
      "cell_type": "code",
      "source": [
        "np.histogram(sachin ,bins=10)"
      ],
      "metadata": {
        "colab": {
          "base_uri": "https://localhost:8080/"
        },
        "id": "Ed4H-7FH_cq3",
        "outputId": "b422a691-f587-4cbb-d1e5-fb1b14494973"
      },
      "execution_count": null,
      "outputs": [
        {
          "output_type": "execute_result",
          "data": {
            "text/plain": [
              "(array([99, 36, 28, 16, 11, 17,  8,  8,  1,  1]),\n",
              " array([  0. ,  18.6,  37.2,  55.8,  74.4,  93. , 111.6, 130.2, 148.8,\n",
              "        167.4, 186. ]))"
            ]
          },
          "metadata": {},
          "execution_count": 120
        }
      ]
    },
    {
      "cell_type": "markdown",
      "source": [
        "# Sachin mean grouped by"
      ],
      "metadata": {
        "id": "IzSBSIlo_zvg"
      }
    },
    {
      "cell_type": "code",
      "source": [
        "#sachin.reshape(9,25)\n",
        "np.mean(sachin.reshape(9,25), axis = 1)\n"
      ],
      "metadata": {
        "colab": {
          "base_uri": "https://localhost:8080/"
        },
        "id": "FL7vFMRGRmCc",
        "outputId": "5b97bf51-f732-4a8d-dfa4-42860ef999f6"
      },
      "execution_count": null,
      "outputs": [
        {
          "output_type": "execute_result",
          "data": {
            "text/plain": [
              "array([33.96, 49.4 , 38.48, 40.16, 39.36, 38.2 , 44.6 , 39.52, 35.2 ])"
            ]
          },
          "metadata": {},
          "execution_count": 138
        }
      ]
    },
    {
      "cell_type": "markdown",
      "source": [
        "Find mean of sachin's scores where he has scored a century"
      ],
      "metadata": {
        "id": "Ob1X_AVfS5HL"
      }
    },
    {
      "cell_type": "code",
      "source": [
        "newsac = sachin[sachin >= 100]\n",
        "np.mean(newsac)"
      ],
      "metadata": {
        "colab": {
          "base_uri": "https://localhost:8080/"
        },
        "id": "OdbF7OjhTyvM",
        "outputId": "5682de3f-b22d-460e-a37e-d346d9f27ea7"
      },
      "execution_count": null,
      "outputs": [
        {
          "output_type": "execute_result",
          "data": {
            "text/plain": [
              "125.0"
            ]
          },
          "metadata": {},
          "execution_count": 200
        }
      ]
    },
    {
      "cell_type": "markdown",
      "source": [
        "Find mean of sachin's scores where rhul score is less than 10"
      ],
      "metadata": {
        "id": "Yqn_kX__U1LO"
      }
    },
    {
      "cell_type": "code",
      "source": [
        "\n",
        "np.mean(sachin[rahul <= 10])\n"
      ],
      "metadata": {
        "colab": {
          "base_uri": "https://localhost:8080/",
          "height": 183
        },
        "id": "cXGn7dLzU6SN",
        "outputId": "0778bc32-c9ac-48cd-c2da-9df99a96d57c"
      },
      "execution_count": null,
      "outputs": [
        {
          "output_type": "error",
          "ename": "IndexError",
          "evalue": "ignored",
          "traceback": [
            "\u001b[0;31m---------------------------------------------------------------------------\u001b[0m",
            "\u001b[0;31mIndexError\u001b[0m                                Traceback (most recent call last)",
            "\u001b[0;32m<ipython-input-160-e1fad5aa11aa>\u001b[0m in \u001b[0;36m<module>\u001b[0;34m\u001b[0m\n\u001b[0;32m----> 1\u001b[0;31m \u001b[0mnp\u001b[0m\u001b[0;34m.\u001b[0m\u001b[0mmean\u001b[0m\u001b[0;34m(\u001b[0m\u001b[0msachin\u001b[0m\u001b[0;34m[\u001b[0m\u001b[0mrahul\u001b[0m \u001b[0;34m<=\u001b[0m \u001b[0;36m10\u001b[0m\u001b[0;34m]\u001b[0m\u001b[0;34m)\u001b[0m\u001b[0;34m\u001b[0m\u001b[0;34m\u001b[0m\u001b[0m\n\u001b[0m",
            "\u001b[0;31mIndexError\u001b[0m: too many indices for array: array is 1-dimensional, but 2 were indexed"
          ]
        }
      ]
    },
    {
      "cell_type": "markdown",
      "source": [
        "sachins average when IQR =25,50,75,100"
      ],
      "metadata": {
        "id": "3MP6BKouZArg"
      }
    },
    {
      "cell_type": "code",
      "source": [
        "iqrIndia = np.percentile(India, [25,50,75,100])\n",
        "print(iqrIndia)\n",
        "iqrIndia= iqrIndia.reshape(4,1)\n",
        "India.shape\n",
        "indices = India <= iqrIndia\n",
        "indices.shape"
      ],
      "metadata": {
        "colab": {
          "base_uri": "https://localhost:8080/"
        },
        "id": "9UxIpdWyY0lH",
        "outputId": "8297b3fa-2f94-4613-8594-5890dad1b665"
      },
      "execution_count": null,
      "outputs": [
        {
          "output_type": "stream",
          "name": "stdout",
          "text": [
            "[175. 216. 273. 499.]\n"
          ]
        },
        {
          "output_type": "execute_result",
          "data": {
            "text/plain": [
              "(4, 225)"
            ]
          },
          "metadata": {},
          "execution_count": 202
        }
      ]
    },
    {
      "cell_type": "code",
      "source": [
        "sachin[indices[0,:]]\n",
        "for i in range(4):\n",
        "  print(i, np.mean(sachin[indices[i]]))"
      ],
      "metadata": {
        "colab": {
          "base_uri": "https://localhost:8080/"
        },
        "id": "sFEcz_19aSaN",
        "outputId": "03440f95-9277-4b7d-fd0e-f957fbff64ed"
      },
      "execution_count": null,
      "outputs": [
        {
          "output_type": "stream",
          "name": "stdout",
          "text": [
            "0 20.912280701754387\n",
            "1 27.92920353982301\n",
            "2 32.0887573964497\n",
            "3 39.87555555555556\n"
          ]
        }
      ]
    },
    {
      "cell_type": "markdown",
      "source": [
        "for every match find out who have scored more Rahul or Sachin"
      ],
      "metadata": {
        "id": "MLylbg3XcX9g"
      }
    },
    {
      "cell_type": "code",
      "source": [
        "snr = valArr[:,0:2]\n",
        "np.where(np.argmax(snr, axis=1) ==0,\"Sachin\", \"Rahul\")"
      ],
      "metadata": {
        "colab": {
          "base_uri": "https://localhost:8080/"
        },
        "id": "2dKbLtbTcZFR",
        "outputId": "1b39cc03-b72b-4858-d78f-57d266238962"
      },
      "execution_count": null,
      "outputs": [
        {
          "output_type": "execute_result",
          "data": {
            "text/plain": [
              "array(['Sachin', 'Rahul', 'Rahul', 'Sachin', 'Sachin', 'Rahul', 'Rahul',\n",
              "       'Sachin', 'Rahul', 'Sachin', 'Rahul', 'Rahul', 'Rahul', 'Sachin',\n",
              "       'Sachin', 'Rahul', 'Rahul', 'Sachin', 'Rahul', 'Rahul', 'Sachin',\n",
              "       'Rahul', 'Sachin', 'Sachin', 'Rahul', 'Sachin', 'Sachin', 'Sachin',\n",
              "       'Sachin', 'Sachin', 'Sachin', 'Sachin', 'Rahul', 'Rahul', 'Sachin',\n",
              "       'Rahul', 'Rahul', 'Sachin', 'Rahul', 'Sachin', 'Sachin', 'Sachin',\n",
              "       'Sachin', 'Rahul', 'Sachin', 'Rahul', 'Rahul', 'Sachin', 'Rahul',\n",
              "       'Sachin', 'Rahul', 'Rahul', 'Rahul', 'Rahul', 'Sachin', 'Rahul',\n",
              "       'Sachin', 'Sachin', 'Rahul', 'Rahul', 'Rahul', 'Sachin', 'Rahul',\n",
              "       'Sachin', 'Sachin', 'Sachin', 'Sachin', 'Rahul', 'Sachin', 'Rahul',\n",
              "       'Rahul', 'Sachin', 'Sachin', 'Rahul', 'Rahul', 'Sachin', 'Rahul',\n",
              "       'Rahul', 'Sachin', 'Rahul', 'Rahul', 'Rahul', 'Rahul', 'Rahul',\n",
              "       'Rahul', 'Sachin', 'Sachin', 'Sachin', 'Rahul', 'Sachin', 'Sachin',\n",
              "       'Sachin', 'Sachin', 'Sachin', 'Sachin', 'Rahul', 'Rahul', 'Sachin',\n",
              "       'Rahul', 'Sachin', 'Sachin', 'Rahul', 'Rahul', 'Rahul', 'Rahul',\n",
              "       'Sachin', 'Rahul', 'Rahul', 'Sachin', 'Sachin', 'Sachin', 'Sachin',\n",
              "       'Rahul', 'Sachin', 'Rahul', 'Sachin', 'Sachin', 'Sachin', 'Rahul',\n",
              "       'Sachin', 'Rahul', 'Sachin', 'Sachin', 'Sachin', 'Sachin', 'Rahul',\n",
              "       'Sachin', 'Rahul', 'Rahul', 'Sachin', 'Sachin', 'Rahul', 'Sachin',\n",
              "       'Rahul', 'Sachin', 'Sachin', 'Sachin', 'Sachin', 'Sachin',\n",
              "       'Sachin', 'Rahul', 'Rahul', 'Rahul', 'Sachin', 'Sachin', 'Sachin',\n",
              "       'Sachin', 'Rahul', 'Sachin', 'Rahul', 'Sachin', 'Sachin', 'Sachin',\n",
              "       'Sachin', 'Rahul', 'Rahul', 'Rahul', 'Sachin', 'Rahul', 'Sachin',\n",
              "       'Rahul', 'Sachin', 'Rahul', 'Sachin', 'Sachin', 'Rahul', 'Sachin',\n",
              "       'Rahul', 'Rahul', 'Sachin', 'Sachin', 'Rahul', 'Sachin', 'Sachin',\n",
              "       'Sachin', 'Sachin', 'Rahul', 'Sachin', 'Rahul', 'Rahul', 'Sachin',\n",
              "       'Sachin', 'Sachin', 'Sachin', 'Rahul', 'Rahul', 'Rahul', 'Sachin',\n",
              "       'Rahul', 'Rahul', 'Rahul', 'Rahul', 'Sachin', 'Rahul', 'Rahul',\n",
              "       'Sachin', 'Rahul', 'Rahul', 'Sachin', 'Rahul', 'Sachin', 'Sachin',\n",
              "       'Sachin', 'Rahul', 'Sachin', 'Rahul', 'Rahul', 'Rahul', 'Sachin',\n",
              "       'Sachin', 'Sachin', 'Rahul', 'Rahul', 'Sachin', 'Rahul', 'Sachin',\n",
              "       'Rahul', 'Rahul', 'Rahul', 'Rahul', 'Sachin', 'Sachin', 'Rahul',\n",
              "       'Sachin', 'Sachin'], dtype='<U6')"
            ]
          },
          "metadata": {},
          "execution_count": 218
        }
      ]
    },
    {
      "cell_type": "markdown",
      "source": [
        "How many runs does Sachin score on Avg after scoring X Runs"
      ],
      "metadata": {
        "id": "qc6m4j8fpokZ"
      }
    },
    {
      "cell_type": "code",
      "source": [
        "sachin_cum = np.cumsum(sachin)\n",
        "np.histogram(sachin_cum, bins=np.arange(0,10000,1000) )"
      ],
      "metadata": {
        "colab": {
          "base_uri": "https://localhost:8080/"
        },
        "id": "7so0hl9tpucI",
        "outputId": "eaec2537-67ad-4445-d35c-6081165ec1e9"
      },
      "execution_count": null,
      "outputs": [
        {
          "output_type": "execute_result",
          "data": {
            "text/plain": [
              "(array([29, 18, 26, 25, 26, 26, 23, 22, 30]),\n",
              " array([   0, 1000, 2000, 3000, 4000, 5000, 6000, 7000, 8000, 9000]))"
            ]
          },
          "metadata": {},
          "execution_count": 229
        }
      ]
    }
  ]
}